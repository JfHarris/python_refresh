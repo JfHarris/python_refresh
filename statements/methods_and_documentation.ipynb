{
 "cells": [
  {
   "cell_type": "code",
   "execution_count": null,
   "id": "0415f729",
   "metadata": {},
   "outputs": [],
   "source": [
    "# Methods and python documentation"
   ]
  }
 ],
 "metadata": {
  "language_info": {
   "name": "python"
  }
 },
 "nbformat": 4,
 "nbformat_minor": 5
}
