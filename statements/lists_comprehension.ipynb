{
 "cells": [
  {
   "cell_type": "code",
   "execution_count": null,
   "id": "1877e9e5",
   "metadata": {},
   "outputs": [
    {
     "data": {
      "text/plain": [
       "['h', 'e', 'l', 'l', 'o']"
      ]
     },
     "execution_count": 2,
     "metadata": {},
     "output_type": "execute_result"
    }
   ],
   "source": [
    "# lists comprehension --- good alternative to for loop + append()\n",
    "\n",
    "# list = [whatever for whatever in iterable object]\n",
    "\n",
    "my_string = \"hello\"\n",
    "my_list = []\n",
    "\n",
    "for letter in my_string:\n",
    "    my_list.append(letter)\n",
    "\n",
    "my_list"
   ]
  },
  {
   "cell_type": "code",
   "execution_count": null,
   "id": "618948ac",
   "metadata": {},
   "outputs": [
    {
     "data": {
      "text/plain": [
       "['h', 'e', 'l', 'l', 'o']"
      ]
     },
     "execution_count": 3,
     "metadata": {},
     "output_type": "execute_result"
    }
   ],
   "source": [
    "# using lists comprehension instead of for loop + append\n",
    "\n",
    "my_2nd_list = [letter for letter in my_string]\n",
    "my_2nd_list"
   ]
  },
  {
   "cell_type": "code",
   "execution_count": 5,
   "id": "5adb6fe6",
   "metadata": {},
   "outputs": [
    {
     "data": {
      "text/plain": [
       "['w', 'o', 'r', 'd']"
      ]
     },
     "execution_count": 5,
     "metadata": {},
     "output_type": "execute_result"
    }
   ],
   "source": [
    "x_list = [x for x in \"word\"]\n",
    "x_list"
   ]
  },
  {
   "cell_type": "code",
   "execution_count": 6,
   "id": "77a0603e",
   "metadata": {},
   "outputs": [
    {
     "data": {
      "text/plain": [
       "[1, 2, 3, 4, 5, 6, 7, 8, 9]"
      ]
     },
     "execution_count": 6,
     "metadata": {},
     "output_type": "execute_result"
    }
   ],
   "source": [
    "list_range = [num for num in range(1,10)]\n",
    "list_range"
   ]
  },
  {
   "cell_type": "code",
   "execution_count": 7,
   "id": "7e2f0a2f",
   "metadata": {},
   "outputs": [
    {
     "data": {
      "text/plain": [
       "[1, 4, 9, 16, 25, 36, 49, 64, 81]"
      ]
     },
     "execution_count": 7,
     "metadata": {},
     "output_type": "execute_result"
    }
   ],
   "source": [
    "# con perform operations on numbers as well\n",
    "sq_range = [num**2 for num in range(1, 10)]\n",
    "sq_range"
   ]
  },
  {
   "cell_type": "code",
   "execution_count": 9,
   "id": "07d06e35",
   "metadata": {},
   "outputs": [
    {
     "data": {
      "text/plain": [
       "[2, 4, 6, 8]"
      ]
     },
     "execution_count": 9,
     "metadata": {},
     "output_type": "execute_result"
    }
   ],
   "source": [
    "# can add if statements as well\n",
    "new_list = [x for x in range(1, 10) if x % 2 == 0]\n",
    "new_list"
   ]
  },
  {
   "cell_type": "code",
   "execution_count": 11,
   "id": "ed0d8010",
   "metadata": {},
   "outputs": [
    {
     "data": {
      "text/plain": [
       "[32.0, 50.0, 68.0, 94.1]"
      ]
     },
     "execution_count": 11,
     "metadata": {},
     "output_type": "execute_result"
    }
   ],
   "source": [
    "celsius = [0, 10, 20, 34.5]\n",
    "\n",
    "fahrenheit = [((9 / 5) * temp + 32) for temp in celsius]\n",
    "fahrenheit"
   ]
  },
  {
   "cell_type": "code",
   "execution_count": 12,
   "id": "8a67056d",
   "metadata": {},
   "outputs": [
    {
     "data": {
      "text/plain": [
       "[32.0, 50.0, 68.0, 94.1]"
      ]
     },
     "execution_count": 12,
     "metadata": {},
     "output_type": "execute_result"
    }
   ],
   "source": [
    "# compared to for loop\n",
    "\n",
    "celsius2 = [0, 10, 20, 34.5]\n",
    "fahrenheit2 = []\n",
    "\n",
    "for temp in celsius2:\n",
    "    fahrenheit2.append(((9 / 5) * temp + 32))\n",
    "\n",
    "fahrenheit2"
   ]
  },
  {
   "cell_type": "code",
   "execution_count": null,
   "id": "279b1287",
   "metadata": {},
   "outputs": [
    {
     "data": {
      "text/plain": [
       "[0, 'ODD', 2, 'ODD', 4, 'ODD', 6, 'ODD', 8, 'ODD', 10]"
      ]
     },
     "execution_count": 15,
     "metadata": {},
     "output_type": "execute_result"
    }
   ],
   "source": [
    "# if else in lists comprehension --- look strange syntactically --- hard to read quickly --- probably best to avoid\n",
    "\n",
    "results = [x if x % 2 == 0 else \"ODD\" for x in range(0,11)]\n",
    "results"
   ]
  },
  {
   "cell_type": "code",
   "execution_count": null,
   "id": "fc6898be",
   "metadata": {},
   "outputs": [
    {
     "data": {
      "text/plain": [
       "[2, 20, 200, 4, 40, 400, 6, 60, 600]"
      ]
     },
     "execution_count": 17,
     "metadata": {},
     "output_type": "execute_result"
    }
   ],
   "source": [
    "# nested loop in list comprehension --- look strange syntactically --- hard to read quickly --- probably best to avoid\n",
    "\n",
    "# regular nested loop for example\n",
    "\n",
    "nested_list = []\n",
    "\n",
    "for x in [2, 4, 6]:\n",
    "    for y in [1, 10, 100]:\n",
    "        nested_list.append(x * y)\n",
    "\n",
    "nested_list"
   ]
  },
  {
   "cell_type": "code",
   "execution_count": 19,
   "id": "fb190f3a",
   "metadata": {},
   "outputs": [
    {
     "data": {
      "text/plain": [
       "[2, 20, 200, 4, 40, 400, 6, 60, 600]"
      ]
     },
     "execution_count": 19,
     "metadata": {},
     "output_type": "execute_result"
    }
   ],
   "source": [
    "new_nested = [x * y for x in [2, 4, 6] for y in [1, 10, 100]]\n",
    "new_nested"
   ]
  }
 ],
 "metadata": {
  "kernelspec": {
   "display_name": "base",
   "language": "python",
   "name": "python3"
  },
  "language_info": {
   "codemirror_mode": {
    "name": "ipython",
    "version": 3
   },
   "file_extension": ".py",
   "mimetype": "text/x-python",
   "name": "python",
   "nbconvert_exporter": "python",
   "pygments_lexer": "ipython3",
   "version": "3.12.7"
  }
 },
 "nbformat": 4,
 "nbformat_minor": 5
}
