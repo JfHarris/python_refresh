{
 "cells": [
  {
   "cell_type": "code",
   "execution_count": null,
   "id": "229b8361",
   "metadata": {},
   "outputs": [],
   "source": [
    "# if, elif, and else\n",
    "# control flow follows colons and indentation\n",
    "\n",
    "# SYNTAX\n",
    "# if some_condition:\n",
    "#   execute this code\n",
    "# elif other_condition(s):\n",
    "#   execute this code\n",
    "# else:\n",
    "#   do something else"
   ]
  },
  {
   "cell_type": "code",
   "execution_count": 2,
   "id": "781e424b",
   "metadata": {},
   "outputs": [
    {
     "name": "stdout",
     "output_type": "stream",
     "text": [
      "It's true\n"
     ]
    }
   ],
   "source": [
    "if True:\n",
    "    print(\"It's true\")"
   ]
  },
  {
   "cell_type": "code",
   "execution_count": 3,
   "id": "1329d946",
   "metadata": {},
   "outputs": [
    {
     "name": "stdout",
     "output_type": "stream",
     "text": [
      "It's true\n"
     ]
    }
   ],
   "source": [
    "if 3 > 2:\n",
    "    print(\"It's true\")"
   ]
  },
  {
   "cell_type": "code",
   "execution_count": 4,
   "id": "86772756",
   "metadata": {},
   "outputs": [],
   "source": [
    "hungry = False\n",
    "\n",
    "if hungry:\n",
    "    print(\"FEED ME\")"
   ]
  },
  {
   "cell_type": "code",
   "execution_count": 5,
   "id": "539c4074",
   "metadata": {},
   "outputs": [
    {
     "name": "stdout",
     "output_type": "stream",
     "text": [
      "i'm not hungry\n"
     ]
    }
   ],
   "source": [
    "hungry = False\n",
    "\n",
    "if hungry:\n",
    "    print(\"FEED ME\")\n",
    "else:\n",
    "    print(\"i'm not hungry\")"
   ]
  },
  {
   "cell_type": "code",
   "execution_count": 8,
   "id": "c71ce40a",
   "metadata": {},
   "outputs": [
    {
     "name": "stdout",
     "output_type": "stream",
     "text": [
      "i like money\n"
     ]
    }
   ],
   "source": [
    "loc = \"bank\"\n",
    "\n",
    "if loc == \"auto shop\":\n",
    "    print(\"Cars are cool\")\n",
    "elif loc == \"bank\":\n",
    "    print(\"i like money\")\n",
    "elif loc == \"store\":\n",
    "    print(\"at the store\")\n",
    "else:\n",
    "    print(\"I don't know much\")"
   ]
  },
  {
   "cell_type": "code",
   "execution_count": 9,
   "id": "6ab62d0a",
   "metadata": {},
   "outputs": [
    {
     "name": "stdout",
     "output_type": "stream",
     "text": [
      "Hello John\n"
     ]
    }
   ],
   "source": [
    "name = \"John\"\n",
    "\n",
    "if name == \"Frank\":\n",
    "    print(\"Hello \" + name)\n",
    "elif name == \"John\":\n",
    "    print(\"Hello \" + name)\n",
    "else:\n",
    "    print(\"What's your name?\")"
   ]
  }
 ],
 "metadata": {
  "kernelspec": {
   "display_name": "base",
   "language": "python",
   "name": "python3"
  },
  "language_info": {
   "codemirror_mode": {
    "name": "ipython",
    "version": 3
   },
   "file_extension": ".py",
   "mimetype": "text/x-python",
   "name": "python",
   "nbconvert_exporter": "python",
   "pygments_lexer": "ipython3",
   "version": "3.12.7"
  }
 },
 "nbformat": 4,
 "nbformat_minor": 5
}
