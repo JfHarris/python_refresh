{
 "cells": [
  {
   "cell_type": "code",
   "execution_count": 1,
   "id": "c66d85e7",
   "metadata": {},
   "outputs": [],
   "source": [
    "# will execute code while condition is true\n",
    "\n",
    "# while boolean_condition:\n",
    "#   execute this code\n",
    "# can combine with an else statement"
   ]
  },
  {
   "cell_type": "code",
   "execution_count": 3,
   "id": "1716a5fa",
   "metadata": {},
   "outputs": [
    {
     "name": "stdout",
     "output_type": "stream",
     "text": [
      "The current value of is: 0\n",
      "The current value of is: 1\n",
      "The current value of is: 2\n",
      "The current value of is: 3\n",
      "The current value of is: 4\n"
     ]
    }
   ],
   "source": [
    "x = 0\n",
    "\n",
    "while x < 5:\n",
    "    print(f\"The current value of is: {x}\")\n",
    "    x += 1 # have x increase to avoid infinite loop"
   ]
  },
  {
   "cell_type": "code",
   "execution_count": 4,
   "id": "155e11d8",
   "metadata": {},
   "outputs": [
    {
     "name": "stdout",
     "output_type": "stream",
     "text": [
      "The current value of is: 0\n",
      "The current value of is: 1\n",
      "The current value of is: 2\n",
      "The current value of is: 3\n",
      "The current value of is: 4\n",
      "x is not less than 5\n"
     ]
    }
   ],
   "source": [
    "x = 0\n",
    "\n",
    "while x < 5:\n",
    "    print(f\"The current value of is: {x}\")\n",
    "    x += 1\n",
    "else:\n",
    "    print(\"x is not less than 5\")"
   ]
  },
  {
   "cell_type": "code",
   "execution_count": 5,
   "id": "729eb77d",
   "metadata": {},
   "outputs": [],
   "source": [
    "# break: breaks out of the current closest enclosing loop\n",
    "# continue: Goes to the top of the current closest enclosing loop\n",
    "# pass: does nothing at all"
   ]
  },
  {
   "cell_type": "code",
   "execution_count": null,
   "id": "30ab8322",
   "metadata": {},
   "outputs": [
    {
     "name": "stdout",
     "output_type": "stream",
     "text": [
      "End of script\n"
     ]
    }
   ],
   "source": [
    "# PASS --- can help avoid EOF error while deciding what to do --- use as placeholder\n",
    "x = [1, 2, 3]\n",
    "\n",
    "for item in x:\n",
    "    pass\n",
    "\n",
    "print(\"End of script\")"
   ]
  },
  {
   "cell_type": "code",
   "execution_count": 7,
   "id": "406dfeb1",
   "metadata": {},
   "outputs": [
    {
     "name": "stdout",
     "output_type": "stream",
     "text": [
      "J\n",
      "h\n",
      "n\n"
     ]
    }
   ],
   "source": [
    "# CONTINUE\n",
    "\n",
    "my_string = \"John\"\n",
    "\n",
    "for letter in my_string:\n",
    "    if letter == \"o\":\n",
    "        continue\n",
    "    print(letter)"
   ]
  },
  {
   "cell_type": "code",
   "execution_count": 8,
   "id": "716bac96",
   "metadata": {},
   "outputs": [
    {
     "name": "stdout",
     "output_type": "stream",
     "text": [
      "J\n"
     ]
    }
   ],
   "source": [
    "# BREAK\n",
    "\n",
    "my_string = \"John\"\n",
    "\n",
    "for letter in my_string:\n",
    "    if letter == \"o\":\n",
    "        break\n",
    "    print(letter)"
   ]
  },
  {
   "cell_type": "code",
   "execution_count": 9,
   "id": "3ccc3e9b",
   "metadata": {},
   "outputs": [
    {
     "name": "stdout",
     "output_type": "stream",
     "text": [
      "0\n",
      "1\n"
     ]
    }
   ],
   "source": [
    "x = 0\n",
    "\n",
    "while x < 5:\n",
    "    if x == 2:\n",
    "        break\n",
    "    print(x)\n",
    "    x += 1"
   ]
  }
 ],
 "metadata": {
  "kernelspec": {
   "display_name": "base",
   "language": "python",
   "name": "python3"
  },
  "language_info": {
   "codemirror_mode": {
    "name": "ipython",
    "version": 3
   },
   "file_extension": ".py",
   "mimetype": "text/x-python",
   "name": "python",
   "nbconvert_exporter": "python",
   "pygments_lexer": "ipython3",
   "version": "3.12.7"
  }
 },
 "nbformat": 4,
 "nbformat_minor": 5
}
