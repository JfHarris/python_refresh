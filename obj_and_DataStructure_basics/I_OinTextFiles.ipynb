{
 "cells": [
  {
   "cell_type": "code",
   "execution_count": 3,
   "id": "e1a4b18d",
   "metadata": {},
   "outputs": [],
   "source": [
    "# I/O in basic text files\n",
    "myFile = open(\"myTextFile.txt\")"
   ]
  },
  {
   "cell_type": "code",
   "execution_count": 5,
   "id": "d47751fb",
   "metadata": {},
   "outputs": [
    {
     "data": {
      "text/plain": [
       "'Hello, this is a text file.\\nThis is the second line.\\nThird line here.\\n'"
      ]
     },
     "execution_count": 5,
     "metadata": {},
     "output_type": "execute_result"
    }
   ],
   "source": [
    "myFile.read()"
   ]
  },
  {
   "cell_type": "code",
   "execution_count": null,
   "id": "d4f94c51",
   "metadata": {},
   "outputs": [
    {
     "data": {
      "text/plain": [
       "''"
      ]
     },
     "execution_count": 6,
     "metadata": {},
     "output_type": "execute_result"
    }
   ],
   "source": [
    "# must reset cursor to avoid getting an empty str after first read like below\n",
    "myFile.read()"
   ]
  },
  {
   "cell_type": "code",
   "execution_count": 7,
   "id": "51326048",
   "metadata": {},
   "outputs": [
    {
     "data": {
      "text/plain": [
       "0"
      ]
     },
     "execution_count": 7,
     "metadata": {},
     "output_type": "execute_result"
    }
   ],
   "source": [
    "# reset cursor to beginning of file\n",
    "myFile.seek(0)"
   ]
  },
  {
   "cell_type": "code",
   "execution_count": 8,
   "id": "07f6af0d",
   "metadata": {},
   "outputs": [],
   "source": [
    "# assign read to a var to save yourself the time\n",
    "content = myFile.read()"
   ]
  },
  {
   "cell_type": "code",
   "execution_count": 9,
   "id": "1e1a2731",
   "metadata": {},
   "outputs": [
    {
     "data": {
      "text/plain": [
       "'Hello, this is a text file.\\nThis is the second line.\\nThird line here.\\n'"
      ]
     },
     "execution_count": 9,
     "metadata": {},
     "output_type": "execute_result"
    }
   ],
   "source": [
    "content"
   ]
  },
  {
   "cell_type": "code",
   "execution_count": 10,
   "id": "e573065a",
   "metadata": {},
   "outputs": [
    {
     "data": {
      "text/plain": [
       "0"
      ]
     },
     "execution_count": 10,
     "metadata": {},
     "output_type": "execute_result"
    }
   ],
   "source": [
    "myFile.seek(0)"
   ]
  },
  {
   "cell_type": "code",
   "execution_count": null,
   "id": "ab680810",
   "metadata": {},
   "outputs": [
    {
     "data": {
      "text/plain": [
       "['Hello, this is a text file.\\n',\n",
       " 'This is the second line.\\n',\n",
       " 'Third line here.\\n']"
      ]
     },
     "execution_count": 11,
     "metadata": {},
     "output_type": "execute_result"
    }
   ],
   "source": [
    "# listify (?) to break up string by line\n",
    "myFile.readlines()"
   ]
  },
  {
   "cell_type": "code",
   "execution_count": 12,
   "id": "06c2d21d",
   "metadata": {},
   "outputs": [],
   "source": [
    "# file locations/navigation\n",
    "# WINDOWS requires extra \\ as an escape char.\n",
    "# EXAMPLE myfile = open(\"C:\\\\blahFolder\\\\whateverFolder\\\\file.txt\")\n",
    "# LINUX EXAMPLE myfile = open(\"/blahFolder/whateverFolder/file.txt\")"
   ]
  },
  {
   "cell_type": "code",
   "execution_count": 13,
   "id": "978c820d",
   "metadata": {},
   "outputs": [],
   "source": [
    "# BEST PRACTICES\n",
    "# close file to avoid errors later\n",
    "myFile.close()"
   ]
  },
  {
   "cell_type": "code",
   "execution_count": 16,
   "id": "5e42e8f3",
   "metadata": {},
   "outputs": [],
   "source": [
    "# do this to avoid needing to close\n",
    "with open(\"myTextFile.txt\") as my_new_file:\n",
    "    new_contents = my_new_file.read()"
   ]
  },
  {
   "cell_type": "code",
   "execution_count": 17,
   "id": "1df9fdcd",
   "metadata": {},
   "outputs": [
    {
     "data": {
      "text/plain": [
       "'Hello, this is a text file.\\nThis is the second line.\\nThird line here.\\n'"
      ]
     },
     "execution_count": 17,
     "metadata": {},
     "output_type": "execute_result"
    }
   ],
   "source": [
    "new_contents"
   ]
  },
  {
   "cell_type": "code",
   "execution_count": null,
   "id": "d666bd88",
   "metadata": {},
   "outputs": [
    {
     "data": {
      "text/plain": [
       "'Hello, this is a text file.\\nThis is the second line.\\nThird line here.\\n'"
      ]
     },
     "execution_count": 18,
     "metadata": {},
     "output_type": "execute_result"
    }
   ],
   "source": [
    "# mode = \"r\" == read only, mode = \"w\" == write/overwrite only, mode = \"a\" == append only\n",
    "# mode = \"r+\" == reading amd writing, mode = \"w+\" == writing and reading\n",
    "with open(\"myTextFile.txt\", mode=\"r\") as my_new_file:\n",
    "    contents = my_new_file.read()\n",
    "\n",
    "contents"
   ]
  },
  {
   "cell_type": "code",
   "execution_count": 19,
   "id": "2a5f9439",
   "metadata": {},
   "outputs": [
    {
     "ename": "UnsupportedOperation",
     "evalue": "not readable",
     "output_type": "error",
     "traceback": [
      "\u001b[1;31m---------------------------------------------------------------------------\u001b[0m",
      "\u001b[1;31mUnsupportedOperation\u001b[0m                      Traceback (most recent call last)",
      "Cell \u001b[1;32mIn[19], line 2\u001b[0m\n\u001b[0;32m      1\u001b[0m \u001b[38;5;28;01mwith\u001b[39;00m \u001b[38;5;28mopen\u001b[39m(\u001b[38;5;124m\"\u001b[39m\u001b[38;5;124mmyTextFile.txt\u001b[39m\u001b[38;5;124m\"\u001b[39m, mode\u001b[38;5;241m=\u001b[39m\u001b[38;5;124m\"\u001b[39m\u001b[38;5;124mw\u001b[39m\u001b[38;5;124m\"\u001b[39m) \u001b[38;5;28;01mas\u001b[39;00m my_new_file:\n\u001b[1;32m----> 2\u001b[0m     contents \u001b[38;5;241m=\u001b[39m my_new_file\u001b[38;5;241m.\u001b[39mread()\n",
      "\u001b[1;31mUnsupportedOperation\u001b[0m: not readable"
     ]
    }
   ],
   "source": [
    "with open(\"myTextFile.txt\", mode=\"w\") as my_new_file:\n",
    "    contents = my_new_file.read()"
   ]
  },
  {
   "cell_type": "code",
   "execution_count": 23,
   "id": "16b27066",
   "metadata": {},
   "outputs": [
    {
     "name": "stdout",
     "output_type": "stream",
     "text": [
      "This is the new text file.\n",
      "Here is the second line.\n",
      "Third line!\n",
      "FOURTH LINE IS HERE\n"
     ]
    }
   ],
   "source": [
    "with open(\"secondTextFile.txt\", mode=\"r\") as f:\n",
    "    print(f.read())"
   ]
  },
  {
   "cell_type": "code",
   "execution_count": 22,
   "id": "995059e0",
   "metadata": {},
   "outputs": [],
   "source": [
    "# adding\n",
    "with open(\"secondTextFile.txt\", mode=\"a\") as f:\n",
    "    f.write(\"FOURTH LINE IS HERE\")"
   ]
  },
  {
   "cell_type": "code",
   "execution_count": 24,
   "id": "1f4cefe1",
   "metadata": {},
   "outputs": [
    {
     "name": "stdout",
     "output_type": "stream",
     "text": [
      "This is the new text file.\n",
      "Here is the second line.\n",
      "Third line!\n",
      "FOURTH LINE IS HERE\n"
     ]
    }
   ],
   "source": [
    "with open(\"secondTextFile.txt\", mode=\"r\") as f:\n",
    "    print(f.read())"
   ]
  },
  {
   "cell_type": "code",
   "execution_count": 25,
   "id": "9872dc3b",
   "metadata": {},
   "outputs": [],
   "source": [
    "with open(\"testWrite.txt\", mode=\"w\") as g:\n",
    "    g.write(\"It's alive!\")"
   ]
  },
  {
   "cell_type": "code",
   "execution_count": 27,
   "id": "fbe72c28",
   "metadata": {},
   "outputs": [
    {
     "name": "stdout",
     "output_type": "stream",
     "text": [
      "It's alive!\n"
     ]
    }
   ],
   "source": [
    "with open(\"testWrite.txt\", mode=\"r\") as g:\n",
    "    print(g.read())"
   ]
  },
  {
   "cell_type": "code",
   "execution_count": null,
   "id": "c4864201",
   "metadata": {},
   "outputs": [],
   "source": [
    "# Resources for More Basic Practice\n",
    "\n",
    "# Before you begin your assessment, I wanted to point out some helpful links for practice (don't worry about being able to do these exercises, I just want you to be aware of the links so you can visit them later, since we still haven't discussed functions, you won't be able to utilize a lot of these resources yet!):\n",
    "\n",
    "# Basic Practice:\n",
    "\n",
    "# http://codingbat.com/python\n",
    "\n",
    "# More Mathematical (and Harder) Practice:\n",
    "\n",
    "# https://projecteuler.net/archives\n",
    "\n",
    "# List of Practice Problems:\n",
    "\n",
    "# http://www.codeabbey.com/index/task_list\n",
    "\n",
    "# A SubReddit Devoted to Daily Practice Problems:\n",
    "\n",
    "# https://www.reddit.com/r/dailyprogrammer\n",
    "\n",
    "# A very tricky website with very few hints and touch problems (Not for beginners but still interesting)\n",
    "\n",
    "# http://www.pythonchallenge.com/"
   ]
  }
 ],
 "metadata": {
  "kernelspec": {
   "display_name": "base",
   "language": "python",
   "name": "python3"
  },
  "language_info": {
   "codemirror_mode": {
    "name": "ipython",
    "version": 3
   },
   "file_extension": ".py",
   "mimetype": "text/x-python",
   "name": "python",
   "nbconvert_exporter": "python",
   "pygments_lexer": "ipython3",
   "version": "3.12.7"
  }
 },
 "nbformat": 4,
 "nbformat_minor": 5
}
