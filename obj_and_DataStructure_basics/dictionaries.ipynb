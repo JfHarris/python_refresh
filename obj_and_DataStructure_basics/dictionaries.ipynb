{
 "cells": [
  {
   "cell_type": "code",
   "execution_count": 1,
   "id": "81584318",
   "metadata": {},
   "outputs": [],
   "source": [
    "# dictionaries -- key-value pair -- {\"key1\" : \"value1\", \"key2\": \"value2\"}\n",
    "# objects retrieved by name not index\n",
    "# unordered and cannot sort\n",
    "\n",
    "my_dict = {\"key1\" : \"value1\", \"key2\" : \"value2\"}"
   ]
  },
  {
   "cell_type": "code",
   "execution_count": 3,
   "id": "f72a170b",
   "metadata": {},
   "outputs": [
    {
     "data": {
      "text/plain": [
       "'value1'"
      ]
     },
     "execution_count": 3,
     "metadata": {},
     "output_type": "execute_result"
    }
   ],
   "source": [
    "my_dict[\"key1\"]"
   ]
  },
  {
   "cell_type": "code",
   "execution_count": 4,
   "id": "b553a639",
   "metadata": {},
   "outputs": [],
   "source": [
    "prices_lookup = {\"apples\": 2.99, \"oranges\": 1.99, \"milk\": 5.00}"
   ]
  },
  {
   "cell_type": "code",
   "execution_count": 5,
   "id": "0b42dccc",
   "metadata": {},
   "outputs": [
    {
     "data": {
      "text/plain": [
       "2.99"
      ]
     },
     "execution_count": 5,
     "metadata": {},
     "output_type": "execute_result"
    }
   ],
   "source": [
    "prices_lookup[\"apples\"]"
   ]
  },
  {
   "cell_type": "code",
   "execution_count": 6,
   "id": "ac02aaea",
   "metadata": {},
   "outputs": [],
   "source": [
    "# multiple data types\n",
    "d = {\"k1\": 123, \"k2\": [1, 2, 3], \"k3\": {\"l1\": 4, \"l2\": 5, \"l6\": 6}}"
   ]
  },
  {
   "cell_type": "code",
   "execution_count": 7,
   "id": "a21ec7e7",
   "metadata": {},
   "outputs": [
    {
     "data": {
      "text/plain": [
       "[1, 2, 3]"
      ]
     },
     "execution_count": 7,
     "metadata": {},
     "output_type": "execute_result"
    }
   ],
   "source": [
    "d[\"k2\"]"
   ]
  },
  {
   "cell_type": "code",
   "execution_count": null,
   "id": "09cdaaf9",
   "metadata": {},
   "outputs": [
    {
     "data": {
      "text/plain": [
       "{'l1': 4, 'l2': 5, 'l6': 6}"
      ]
     },
     "execution_count": 11,
     "metadata": {},
     "output_type": "execute_result"
    }
   ],
   "source": [
    "# nested list\n",
    "d[\"k2\"]"
   ]
  },
  {
   "cell_type": "code",
   "execution_count": 13,
   "id": "fe7b757e",
   "metadata": {},
   "outputs": [
    {
     "data": {
      "text/plain": [
       "3"
      ]
     },
     "execution_count": 13,
     "metadata": {},
     "output_type": "execute_result"
    }
   ],
   "source": [
    "# nested list\n",
    "d[\"k2\"][2]"
   ]
  },
  {
   "cell_type": "code",
   "execution_count": 14,
   "id": "e743d4c0",
   "metadata": {},
   "outputs": [
    {
     "data": {
      "text/plain": [
       "{'l1': 4, 'l2': 5, 'l6': 6}"
      ]
     },
     "execution_count": 14,
     "metadata": {},
     "output_type": "execute_result"
    }
   ],
   "source": [
    "# nested dict\n",
    "d[\"k3\"]"
   ]
  },
  {
   "cell_type": "code",
   "execution_count": null,
   "id": "ebf3c696",
   "metadata": {},
   "outputs": [
    {
     "data": {
      "text/plain": [
       "4"
      ]
     },
     "execution_count": 10,
     "metadata": {},
     "output_type": "execute_result"
    }
   ],
   "source": [
    "# nested dict\n",
    "d[\"k3\"][\"l1\"]"
   ]
  },
  {
   "cell_type": "code",
   "execution_count": 15,
   "id": "fab39653",
   "metadata": {},
   "outputs": [],
   "source": [
    "d2 = {\"key1\": [\"a\", \"b\", \"c\"]}"
   ]
  },
  {
   "cell_type": "code",
   "execution_count": 16,
   "id": "813e8ce4",
   "metadata": {},
   "outputs": [
    {
     "data": {
      "text/plain": [
       "'C'"
      ]
     },
     "execution_count": 16,
     "metadata": {},
     "output_type": "execute_result"
    }
   ],
   "source": [
    "d2[\"key1\"][2].upper()"
   ]
  },
  {
   "cell_type": "code",
   "execution_count": 2,
   "id": "87127f0c",
   "metadata": {},
   "outputs": [],
   "source": [
    "# add to dict\n",
    "d3 = {\"k1\": 100, \"k2\": 200}"
   ]
  },
  {
   "cell_type": "code",
   "execution_count": 3,
   "id": "64e463e1",
   "metadata": {},
   "outputs": [],
   "source": [
    "d3[\"k3\"] = 300"
   ]
  },
  {
   "cell_type": "code",
   "execution_count": 4,
   "id": "2fd57145",
   "metadata": {},
   "outputs": [
    {
     "data": {
      "text/plain": [
       "{'k1': 100, 'k2': 200, 'k3': 300}"
      ]
     },
     "execution_count": 4,
     "metadata": {},
     "output_type": "execute_result"
    }
   ],
   "source": [
    "d3"
   ]
  },
  {
   "cell_type": "code",
   "execution_count": 5,
   "id": "5c0e3c9f",
   "metadata": {},
   "outputs": [],
   "source": [
    "# reassign value\n",
    "d3[\"k1\"] = 150"
   ]
  },
  {
   "cell_type": "code",
   "execution_count": 6,
   "id": "aa452a0b",
   "metadata": {},
   "outputs": [
    {
     "data": {
      "text/plain": [
       "{'k1': 150, 'k2': 200, 'k3': 300}"
      ]
     },
     "execution_count": 6,
     "metadata": {},
     "output_type": "execute_result"
    }
   ],
   "source": [
    "d3"
   ]
  },
  {
   "cell_type": "code",
   "execution_count": 7,
   "id": "a0ea7674",
   "metadata": {},
   "outputs": [
    {
     "data": {
      "text/plain": [
       "dict_keys(['k1', 'k2', 'k3'])"
      ]
     },
     "execution_count": 7,
     "metadata": {},
     "output_type": "execute_result"
    }
   ],
   "source": [
    "# shows keys of a dict\n",
    "d3.keys()"
   ]
  },
  {
   "cell_type": "code",
   "execution_count": 8,
   "id": "e4c6cb30",
   "metadata": {},
   "outputs": [
    {
     "data": {
      "text/plain": [
       "dict_values([150, 200, 300])"
      ]
     },
     "execution_count": 8,
     "metadata": {},
     "output_type": "execute_result"
    }
   ],
   "source": [
    "# show values of dict\n",
    "d3.values()"
   ]
  },
  {
   "cell_type": "code",
   "execution_count": 15,
   "id": "785cc2d5",
   "metadata": {},
   "outputs": [
    {
     "data": {
      "text/plain": [
       "dict_items([('k2', 200), ('k3', 300)])"
      ]
     },
     "execution_count": 15,
     "metadata": {},
     "output_type": "execute_result"
    }
   ],
   "source": [
    "# get key-value pairs\n",
    "d3.items()"
   ]
  },
  {
   "cell_type": "code",
   "execution_count": null,
   "id": "ac5fedd0",
   "metadata": {},
   "outputs": [],
   "source": [
    "# delete items in a dict\n",
    "del d3[\"k1\"]\n",
    "d3"
   ]
  },
  {
   "cell_type": "code",
   "execution_count": 16,
   "id": "b17a6bd0",
   "metadata": {},
   "outputs": [
    {
     "data": {
      "text/plain": [
       "['k2', 'k3']"
      ]
     },
     "execution_count": 16,
     "metadata": {},
     "output_type": "execute_result"
    }
   ],
   "source": [
    "list(d3)"
   ]
  }
 ],
 "metadata": {
  "kernelspec": {
   "display_name": "base",
   "language": "python",
   "name": "python3"
  },
  "language_info": {
   "codemirror_mode": {
    "name": "ipython",
    "version": 3
   },
   "file_extension": ".py",
   "mimetype": "text/x-python",
   "name": "python",
   "nbconvert_exporter": "python",
   "pygments_lexer": "ipython3",
   "version": "3.12.7"
  }
 },
 "nbformat": 4,
 "nbformat_minor": 5
}
