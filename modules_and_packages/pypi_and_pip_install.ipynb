{
 "cells": [
  {
   "cell_type": "code",
   "execution_count": null,
   "id": "c4608e36",
   "metadata": {},
   "outputs": [],
   "source": [
    "# pypi and pip install\n",
    "# package installation\n",
    "\n",
    "# in terminal----you'll have to imagine the colors\n",
    "\n",
    "# pip install requests\n",
    "# pip install colorama\n",
    "# python\n",
    "# from colorama import init\n",
    "# init()\n",
    "# from colorama import Fore\n",
    "# print(Fore.RED + \"some red text\")\n",
    "# some red text\n",
    "# >>> print(Fore.GREEN + \"now it's green\")\n",
    "# now it's green\n",
    "# >>>\n",
    "# quit ()\n",
    "\n",
    "# not installed\n",
    "# pip install openpyxl"
   ]
  }
 ],
 "metadata": {
  "language_info": {
   "name": "python"
  }
 },
 "nbformat": 4,
 "nbformat_minor": 5
}
