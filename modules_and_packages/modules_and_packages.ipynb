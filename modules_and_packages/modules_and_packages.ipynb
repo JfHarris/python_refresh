{
 "cells": [
  {
   "cell_type": "code",
   "execution_count": 1,
   "id": "48bdc02f",
   "metadata": {},
   "outputs": [],
   "source": [
    "#  notes for modules and packages\n",
    "\n",
    "# modules are just .py scripts used in other .py scripts\n",
    "\n",
    "# packages are just collections of modules\n",
    "\n",
    "# created my_module.py and my_func then imported it in modules_and_packages_code.py\n",
    "\n",
    "# navigate to folder containing file in terminal\n",
    "\n",
    "# cd python_refresh\n",
    "\n",
    "# cd modules_and_packages\n",
    "\n",
    "# call script\n",
    "# python modules_and_packages_code.py\n",
    "\n",
    "# output\n",
    "# Hey! I am in my_module.py"
   ]
  },
  {
   "cell_type": "code",
   "execution_count": null,
   "id": "7727f1cb",
   "metadata": {},
   "outputs": [],
   "source": [
    "# creating a package\n",
    "\n",
    "# in my_main_package and subpackage folders include file named __init__.py\n",
    "# this file tells python that this directory is a package\n",
    "\n",
    "# added some_main_script.py to my_main_package and my_subscript to subpackage\n",
    "# add functions to both files\n",
    "\n",
    "# call in command line\n",
    "# python modules_and_packages_code.py\n",
    "\n",
    "# output\n",
    "# Hey! I am in some_main_script and my_main_package\n",
    "# Hey! I'm a function in my_subscript.py"
   ]
  }
 ],
 "metadata": {
  "kernelspec": {
   "display_name": "base",
   "language": "python",
   "name": "python3"
  },
  "language_info": {
   "codemirror_mode": {
    "name": "ipython",
    "version": 3
   },
   "file_extension": ".py",
   "mimetype": "text/x-python",
   "name": "python",
   "nbconvert_exporter": "python",
   "pygments_lexer": "ipython3",
   "version": "3.12.7"
  }
 },
 "nbformat": 4,
 "nbformat_minor": 5
}
