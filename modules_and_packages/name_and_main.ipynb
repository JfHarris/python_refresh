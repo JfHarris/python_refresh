{
 "cells": [
  {
   "cell_type": "code",
   "execution_count": null,
   "id": "626c438f",
   "metadata": {},
   "outputs": [],
   "source": [
    "# __name__ and \"__main__\"\n",
    "\n",
    "# explaining if __name__ == \"__main__\"\n",
    "# is file called directly or imported\n",
    "\n",
    "# added one and two.py\n",
    "# then called both in command line\n",
    "\n",
    "# python one.py\n",
    "# OUTPUT\n",
    "# Top level in one.py\n",
    "# one.py is being run directly\n",
    "\n",
    "# python two.py\n",
    "# OUTPUT\n",
    "# Top level in one.py\n",
    "# one.py has been imported\n",
    "# top level in two.py\n",
    "# Func() in one.py\n",
    "# two.py is being run directly"
   ]
  }
 ],
 "metadata": {
  "language_info": {
   "name": "python"
  }
 },
 "nbformat": 4,
 "nbformat_minor": 5
}
