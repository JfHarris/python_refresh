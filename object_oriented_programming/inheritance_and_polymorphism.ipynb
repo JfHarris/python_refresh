{
 "cells": [
  {
   "cell_type": "code",
   "execution_count": 1,
   "id": "14cb7c56",
   "metadata": {},
   "outputs": [],
   "source": [
    "# Inhreitance and polymorphism\n"
   ]
  },
  {
   "cell_type": "code",
   "execution_count": 9,
   "id": "7961d43b",
   "metadata": {},
   "outputs": [],
   "source": [
    "class Animal():\n",
    "\n",
    "    def __init__(self):\n",
    "        print(\"ANIMAL CREATED\")\n",
    "    \n",
    "    def who_am_i(self):\n",
    "        print(\"I am an animal\")\n",
    "    \n",
    "    def eat(self):\n",
    "        print(\"I am eating\")"
   ]
  },
  {
   "cell_type": "code",
   "execution_count": 11,
   "id": "a8bb6fe3",
   "metadata": {},
   "outputs": [
    {
     "name": "stdout",
     "output_type": "stream",
     "text": [
      "ANIMAL CREATED\n"
     ]
    }
   ],
   "source": [
    "my_animal = Animal()"
   ]
  },
  {
   "cell_type": "code",
   "execution_count": 12,
   "id": "0568a5a2",
   "metadata": {},
   "outputs": [
    {
     "name": "stdout",
     "output_type": "stream",
     "text": [
      "I am eating\n"
     ]
    }
   ],
   "source": [
    "my_animal.eat()"
   ]
  },
  {
   "cell_type": "code",
   "execution_count": 13,
   "id": "ad09e5d0",
   "metadata": {},
   "outputs": [
    {
     "name": "stdout",
     "output_type": "stream",
     "text": [
      "I am an animal\n"
     ]
    }
   ],
   "source": [
    "my_animal.who_am_i()"
   ]
  },
  {
   "cell_type": "code",
   "execution_count": 20,
   "id": "7cc7c52d",
   "metadata": {},
   "outputs": [],
   "source": [
    "# by adding Animal as a parameter to Dog and adding Animal.__init__(self), it will inherit from Animal\n",
    "\n",
    "class Dog(Animal):\n",
    "\n",
    "    def __init__(self):\n",
    "        # will create an instance of Animal every time Dog is created\n",
    "        Animal.__init__(self)\n",
    "        print(\"Dog created\")\n",
    "    \n",
    "    # to overwrite an inherited method, simply copy its name in the class you want to overwrite the method\n",
    "    def who_am_i(self):\n",
    "        print(\"I am a dog\")\n",
    "\n",
    "    # can add methods to of course\n",
    "    def bark(self):\n",
    "        print(\"WOOF\")\n",
    "    \n",
    "    def eat(self):\n",
    "        print(\"I am a dog and I am eating\")"
   ]
  },
  {
   "cell_type": "code",
   "execution_count": 21,
   "id": "5dff7cdc",
   "metadata": {},
   "outputs": [
    {
     "name": "stdout",
     "output_type": "stream",
     "text": [
      "ANIMAL CREATED\n",
      "Dog created\n"
     ]
    }
   ],
   "source": [
    "my_dog = Dog()"
   ]
  },
  {
   "cell_type": "code",
   "execution_count": 16,
   "id": "6ba966d8",
   "metadata": {},
   "outputs": [
    {
     "name": "stdout",
     "output_type": "stream",
     "text": [
      "I am eating\n"
     ]
    }
   ],
   "source": [
    "# animal methods are available to dog due to inheritance\n",
    "my_dog.eat()"
   ]
  },
  {
   "cell_type": "code",
   "execution_count": null,
   "id": "e0b60ab6",
   "metadata": {},
   "outputs": [
    {
     "name": "stdout",
     "output_type": "stream",
     "text": [
      "I am a dog\n"
     ]
    }
   ],
   "source": [
    "# will run the dog class version of who_am_i method\n",
    "my_dog.who_am_i()"
   ]
  },
  {
   "cell_type": "code",
   "execution_count": 22,
   "id": "453cd0c4",
   "metadata": {},
   "outputs": [
    {
     "name": "stdout",
     "output_type": "stream",
     "text": [
      "I am a dog and I am eating\n"
     ]
    }
   ],
   "source": [
    "# after overwriting eat---previous method call was before overwriting eat\n",
    "my_dog.eat()"
   ]
  },
  {
   "cell_type": "code",
   "execution_count": 23,
   "id": "007904b1",
   "metadata": {},
   "outputs": [
    {
     "name": "stdout",
     "output_type": "stream",
     "text": [
      "WOOF\n"
     ]
    }
   ],
   "source": [
    "my_dog.bark()"
   ]
  },
  {
   "cell_type": "code",
   "execution_count": 26,
   "id": "451cd943",
   "metadata": {},
   "outputs": [],
   "source": [
    "# polymorphism--different object classes can share the same method name\n",
    "\n",
    "class Dog2():\n",
    "\n",
    "    def __init__(self, name):\n",
    "        self.name = name\n",
    "    \n",
    "    def speak(self):\n",
    "        return self.name + \" says WOOF\""
   ]
  },
  {
   "cell_type": "code",
   "execution_count": 28,
   "id": "3e3b23ad",
   "metadata": {},
   "outputs": [],
   "source": [
    "class Cat():\n",
    "\n",
    "    def __init__(self, name):\n",
    "        self.name = name\n",
    "    \n",
    "    def speak(self):\n",
    "        return self.name + \" says MEOW\""
   ]
  },
  {
   "cell_type": "code",
   "execution_count": 29,
   "id": "a96e6bba",
   "metadata": {},
   "outputs": [],
   "source": [
    "# creating instances of Dog and Cat respectively\n",
    "fido = Dog2(\"fido\")\n",
    "leo = Cat(\"leo\")"
   ]
  },
  {
   "cell_type": "code",
   "execution_count": 30,
   "id": "4392fbf6",
   "metadata": {},
   "outputs": [
    {
     "name": "stdout",
     "output_type": "stream",
     "text": [
      "fido says WOOF\n"
     ]
    }
   ],
   "source": [
    "print(fido.speak())"
   ]
  },
  {
   "cell_type": "code",
   "execution_count": 31,
   "id": "7cd3e950",
   "metadata": {},
   "outputs": [
    {
     "name": "stdout",
     "output_type": "stream",
     "text": [
      "leo says MEOW\n"
     ]
    }
   ],
   "source": [
    "print(leo.speak())"
   ]
  },
  {
   "cell_type": "code",
   "execution_count": 33,
   "id": "0ee200e3",
   "metadata": {},
   "outputs": [
    {
     "name": "stdout",
     "output_type": "stream",
     "text": [
      "<class '__main__.Dog2'>\n",
      "fido says WOOF\n",
      "<class '__main__.Cat'>\n",
      "leo says MEOW\n"
     ]
    }
   ],
   "source": [
    "for pet in [fido, leo]:\n",
    "    print(type(pet))\n",
    "    print(pet.speak())"
   ]
  },
  {
   "cell_type": "code",
   "execution_count": 34,
   "id": "8c64664c",
   "metadata": {},
   "outputs": [],
   "source": [
    "def pet_speak(pet):\n",
    "    print(pet.speak())"
   ]
  },
  {
   "cell_type": "code",
   "execution_count": 35,
   "id": "59fc5016",
   "metadata": {},
   "outputs": [
    {
     "name": "stdout",
     "output_type": "stream",
     "text": [
      "fido says WOOF\n"
     ]
    }
   ],
   "source": [
    "pet_speak(fido)"
   ]
  },
  {
   "cell_type": "code",
   "execution_count": 36,
   "id": "256026c6",
   "metadata": {},
   "outputs": [
    {
     "name": "stdout",
     "output_type": "stream",
     "text": [
      "leo says MEOW\n"
     ]
    }
   ],
   "source": [
    "pet_speak(leo)"
   ]
  },
  {
   "cell_type": "code",
   "execution_count": 37,
   "id": "1e98550b",
   "metadata": {},
   "outputs": [],
   "source": [
    "# abstract classes and inheritance\n",
    "# abstract class == one that you never expect to instatiate---they essentially only serve as a base class\n",
    "\n",
    "class Animal2():\n",
    "\n",
    "    def __init__(self, name):\n",
    "        self.name = name\n",
    "    \n",
    "    # raise error to remind to use subclass instead\n",
    "    def speak(self):\n",
    "        raise NotImplementedError(\"Subclass must implement this abstract method\")"
   ]
  },
  {
   "cell_type": "code",
   "execution_count": null,
   "id": "c4b5262c",
   "metadata": {},
   "outputs": [],
   "source": [
    "# AGAIN---this class is not expected to be used this way---this is for an example only\n",
    "my_animal2 = Animal2(\"manuel\")"
   ]
  },
  {
   "cell_type": "code",
   "execution_count": null,
   "id": "ba6aff0f",
   "metadata": {},
   "outputs": [
    {
     "ename": "NotImplementedError",
     "evalue": "Subclass must implement this abstract method",
     "output_type": "error",
     "traceback": [
      "\u001b[1;31m---------------------------------------------------------------------------\u001b[0m",
      "\u001b[1;31mNotImplementedError\u001b[0m                       Traceback (most recent call last)",
      "Cell \u001b[1;32mIn[39], line 1\u001b[0m\n\u001b[1;32m----> 1\u001b[0m my_animal2\u001b[38;5;241m.\u001b[39mspeak()\n",
      "Cell \u001b[1;32mIn[37], line 11\u001b[0m, in \u001b[0;36mAnimal2.speak\u001b[1;34m(self)\u001b[0m\n\u001b[0;32m     10\u001b[0m \u001b[38;5;28;01mdef\u001b[39;00m \u001b[38;5;21mspeak\u001b[39m(\u001b[38;5;28mself\u001b[39m):\n\u001b[1;32m---> 11\u001b[0m     \u001b[38;5;28;01mraise\u001b[39;00m \u001b[38;5;167;01mNotImplementedError\u001b[39;00m(\u001b[38;5;124m\"\u001b[39m\u001b[38;5;124mSubclass must implement this abstract method\u001b[39m\u001b[38;5;124m\"\u001b[39m)\n",
      "\u001b[1;31mNotImplementedError\u001b[0m: Subclass must implement this abstract method"
     ]
    }
   ],
   "source": [
    "# will show error message to remind you that this class is meant to be inherited and the speak method is meant to be\n",
    "# overwritten by subclass method using polymorphism\n",
    "\n",
    "my_animal2.speak()"
   ]
  },
  {
   "cell_type": "code",
   "execution_count": 41,
   "id": "a0be3483",
   "metadata": {},
   "outputs": [],
   "source": [
    "# dog3 will inherit name and overwrite speak from Animal2---overwriting speak will circumvent the error as intended\n",
    "# since you're using it in a subclass\n",
    "class Dog3(Animal2):\n",
    "\n",
    "    def speak(self):\n",
    "        return self.name + \" says BARK YAP GRRR!\""
   ]
  },
  {
   "cell_type": "code",
   "execution_count": 43,
   "id": "d2191c99",
   "metadata": {},
   "outputs": [],
   "source": [
    "# same intention as above\n",
    "class Cat2(Animal2):\n",
    "\n",
    "    def speak(self):\n",
    "        return self.name + \" says MEOW HISS!\""
   ]
  },
  {
   "cell_type": "code",
   "execution_count": 44,
   "id": "0abcc19d",
   "metadata": {},
   "outputs": [],
   "source": [
    "basset = Dog3(\"basset\")"
   ]
  },
  {
   "cell_type": "code",
   "execution_count": 45,
   "id": "c107ce32",
   "metadata": {},
   "outputs": [],
   "source": [
    "feline = Cat2(\"feline\")"
   ]
  },
  {
   "cell_type": "code",
   "execution_count": 46,
   "id": "15aacbd0",
   "metadata": {},
   "outputs": [
    {
     "name": "stdout",
     "output_type": "stream",
     "text": [
      "basset says BARK YAP GRRR!\n"
     ]
    }
   ],
   "source": [
    "print(basset.speak())"
   ]
  },
  {
   "cell_type": "code",
   "execution_count": 47,
   "id": "61f8469a",
   "metadata": {},
   "outputs": [
    {
     "name": "stdout",
     "output_type": "stream",
     "text": [
      "feline says MEOW HISS!\n"
     ]
    }
   ],
   "source": [
    "print(feline.speak())"
   ]
  }
 ],
 "metadata": {
  "kernelspec": {
   "display_name": "base",
   "language": "python",
   "name": "python3"
  },
  "language_info": {
   "codemirror_mode": {
    "name": "ipython",
    "version": 3
   },
   "file_extension": ".py",
   "mimetype": "text/x-python",
   "name": "python",
   "nbconvert_exporter": "python",
   "pygments_lexer": "ipython3",
   "version": "3.12.7"
  }
 },
 "nbformat": 4,
 "nbformat_minor": 5
}
