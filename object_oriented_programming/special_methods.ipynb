{
 "cells": [
  {
   "cell_type": "code",
   "execution_count": null,
   "id": "0110c06a",
   "metadata": {},
   "outputs": [],
   "source": [
    "# special methods---Magic/Dunder\n",
    "# using built-in methods on created classes"
   ]
  },
  {
   "cell_type": "code",
   "execution_count": 1,
   "id": "d82c2561",
   "metadata": {},
   "outputs": [],
   "source": [
    "my_list = [1, 2, 3]"
   ]
  },
  {
   "cell_type": "code",
   "execution_count": 2,
   "id": "b933732d",
   "metadata": {},
   "outputs": [
    {
     "data": {
      "text/plain": [
       "3"
      ]
     },
     "execution_count": 2,
     "metadata": {},
     "output_type": "execute_result"
    }
   ],
   "source": [
    "len(my_list)"
   ]
  },
  {
   "cell_type": "code",
   "execution_count": 3,
   "id": "be133f36",
   "metadata": {},
   "outputs": [],
   "source": [
    "class Sample():\n",
    "    pass"
   ]
  },
  {
   "cell_type": "code",
   "execution_count": 4,
   "id": "e7c275de",
   "metadata": {},
   "outputs": [],
   "source": [
    "my_sample = Sample()"
   ]
  },
  {
   "cell_type": "code",
   "execution_count": 5,
   "id": "3a060472",
   "metadata": {},
   "outputs": [
    {
     "ename": "TypeError",
     "evalue": "object of type 'Sample' has no len()",
     "output_type": "error",
     "traceback": [
      "\u001b[1;31m---------------------------------------------------------------------------\u001b[0m",
      "\u001b[1;31mTypeError\u001b[0m                                 Traceback (most recent call last)",
      "Cell \u001b[1;32mIn[5], line 1\u001b[0m\n\u001b[1;32m----> 1\u001b[0m \u001b[38;5;28mlen\u001b[39m(my_sample)\n",
      "\u001b[1;31mTypeError\u001b[0m: object of type 'Sample' has no len()"
     ]
    }
   ],
   "source": [
    "len(my_sample)"
   ]
  },
  {
   "cell_type": "code",
   "execution_count": null,
   "id": "aebfcf81",
   "metadata": {},
   "outputs": [],
   "source": [
    "class Book():\n",
    "\n",
    "    def __init__(self, title, author, pages):\n",
    "        self.title = title\n",
    "        self.author = author\n",
    "        self.pages = pages\n"
   ]
  },
  {
   "cell_type": "code",
   "execution_count": 7,
   "id": "bc34b4f6",
   "metadata": {},
   "outputs": [],
   "source": [
    "b = Book(\"The Book\", \"John\", 44)"
   ]
  },
  {
   "cell_type": "code",
   "execution_count": null,
   "id": "0fd6def0",
   "metadata": {},
   "outputs": [
    {
     "name": "stdout",
     "output_type": "stream",
     "text": [
      "<__main__.Book object at 0x000001BE74B815B0>\n"
     ]
    }
   ],
   "source": [
    "# will just show memory location not any info we gave to class\n",
    "print(b)"
   ]
  },
  {
   "cell_type": "code",
   "execution_count": 17,
   "id": "5dfb8ff1",
   "metadata": {},
   "outputs": [],
   "source": [
    "# adding special methods to new book class\n",
    "\n",
    "class Book2():\n",
    "\n",
    "    def __init__(self, title, author, pages):\n",
    "        self.title = title\n",
    "        self.author = author\n",
    "        self.pages = pages\n",
    "\n",
    "    # str special method---USE RETURN NOT PRINT\n",
    "    def __str__(self):\n",
    "        return f\"{self.title} by {self.author}\"\n",
    "    \n",
    "    # len special method\n",
    "    def __len__(self):\n",
    "        return self.pages\n",
    "    \n",
    "    # delete special method\n",
    "    def __del__(self):\n",
    "        print(\"A book object has been deleted\")"
   ]
  },
  {
   "cell_type": "code",
   "execution_count": 18,
   "id": "3105ef42",
   "metadata": {},
   "outputs": [],
   "source": [
    "b2 = Book2(\"Real Book\", \"James\", 409)"
   ]
  },
  {
   "cell_type": "code",
   "execution_count": 19,
   "id": "77600fee",
   "metadata": {},
   "outputs": [
    {
     "name": "stdout",
     "output_type": "stream",
     "text": [
      "Real Book by James\n"
     ]
    }
   ],
   "source": [
    "# after add __str__ special method print can now find a string representation about book2 class and print it\n",
    "print(b2)"
   ]
  },
  {
   "cell_type": "code",
   "execution_count": 20,
   "id": "f054132a",
   "metadata": {},
   "outputs": [
    {
     "data": {
      "text/plain": [
       "409"
      ]
     },
     "execution_count": 20,
     "metadata": {},
     "output_type": "execute_result"
    }
   ],
   "source": [
    "len(b2)"
   ]
  },
  {
   "cell_type": "code",
   "execution_count": 21,
   "id": "b0d0480e",
   "metadata": {},
   "outputs": [
    {
     "name": "stdout",
     "output_type": "stream",
     "text": [
      "A book object has been deleted\n"
     ]
    }
   ],
   "source": [
    "# deleting info will now show our message from the class when an instance of that class is deleted\n",
    "del b2"
   ]
  },
  {
   "cell_type": "code",
   "execution_count": null,
   "id": "bdbd38fe",
   "metadata": {},
   "outputs": [
    {
     "ename": "NameError",
     "evalue": "name 'b2' is not defined",
     "output_type": "error",
     "traceback": [
      "\u001b[1;31m---------------------------------------------------------------------------\u001b[0m",
      "\u001b[1;31mNameError\u001b[0m                                 Traceback (most recent call last)",
      "Cell \u001b[1;32mIn[22], line 1\u001b[0m\n\u001b[1;32m----> 1\u001b[0m b2\n",
      "\u001b[1;31mNameError\u001b[0m: name 'b2' is not defined"
     ]
    }
   ],
   "source": [
    "# will show an error since b2 has been deleted\n",
    "b2"
   ]
  }
 ],
 "metadata": {
  "kernelspec": {
   "display_name": "base",
   "language": "python",
   "name": "python3"
  },
  "language_info": {
   "codemirror_mode": {
    "name": "ipython",
    "version": 3
   },
   "file_extension": ".py",
   "mimetype": "text/x-python",
   "name": "python",
   "nbconvert_exporter": "python",
   "pygments_lexer": "ipython3",
   "version": "3.12.7"
  }
 },
 "nbformat": 4,
 "nbformat_minor": 5
}
