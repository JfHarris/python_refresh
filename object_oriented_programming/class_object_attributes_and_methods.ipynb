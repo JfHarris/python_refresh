{
 "cells": [
  {
   "cell_type": "code",
   "execution_count": 19,
   "id": "5f8ebff4",
   "metadata": {},
   "outputs": [],
   "source": [
    "# Class object attributes and methods\n",
    "\n",
    "# dog class from previous lesson\n",
    "class Dog():\n",
    "    # defining attribute above __init__ is a CLASS OBJECT ATTRIBUTE\n",
    "    # will be the same for every instance of the class\n",
    "    species = \"Canis lupus familiaris\" # no need for self keyword\n",
    "\n",
    "    def __init__(self, breed, name, spots):\n",
    "\n",
    "        self.breed = breed # expect str\n",
    "        self.name = name # expect str\n",
    "        self.spots = spots # expect boolean...True/False\n",
    "\n",
    "    # add class methods---functions inside a class\n",
    "    # perform operations/actions\n",
    "    def bark(self):\n",
    "        print(\"WOOF\")\n",
    "    \n",
    "    # methods can also receive input from outside class\n",
    "    def say_name(self, number):\n",
    "        # add self keyword so each instance can access its attributes\n",
    "        print(f\"My name is {self.name} and the number is {number}\")"
   ]
  },
  {
   "cell_type": "code",
   "execution_count": 6,
   "id": "065baedd",
   "metadata": {},
   "outputs": [],
   "source": [
    "my_new_dog = Dog(breed = \"Bassett\", name = \"Dork\", spots = False)"
   ]
  },
  {
   "cell_type": "code",
   "execution_count": null,
   "id": "38e74b04",
   "metadata": {},
   "outputs": [
    {
     "data": {
      "text/plain": [
       "'Canis lupus familiaris'"
      ]
     },
     "execution_count": 7,
     "metadata": {},
     "output_type": "execute_result"
    }
   ],
   "source": [
    "my_new_dog.species # all instances of Dog will have the same species"
   ]
  },
  {
   "cell_type": "code",
   "execution_count": 21,
   "id": "5b11c8dd",
   "metadata": {},
   "outputs": [],
   "source": [
    "# added after instituting class method\n",
    "my_second_dog = Dog(breed = \"Retriever\", name = \"Roscoe\", spots = False)"
   ]
  },
  {
   "cell_type": "code",
   "execution_count": 14,
   "id": "0f65bf87",
   "metadata": {},
   "outputs": [
    {
     "data": {
      "text/plain": [
       "<bound method Dog.bark of <__main__.Dog object at 0x0000016266DDFB00>>"
      ]
     },
     "execution_count": 14,
     "metadata": {},
     "output_type": "execute_result"
    }
   ],
   "source": [
    "my_second_dog.bark"
   ]
  },
  {
   "cell_type": "code",
   "execution_count": null,
   "id": "45507271",
   "metadata": {},
   "outputs": [
    {
     "name": "stdout",
     "output_type": "stream",
     "text": [
      "WOOF\n"
     ]
    }
   ],
   "source": [
    "# need to include parentheses to run method since it is a function\n",
    "my_second_dog.bark()"
   ]
  },
  {
   "cell_type": "code",
   "execution_count": null,
   "id": "155e8495",
   "metadata": {},
   "outputs": [
    {
     "name": "stdout",
     "output_type": "stream",
     "text": [
      "My name is Roscoe and the number is 8\n"
     ]
    }
   ],
   "source": [
    "# example of input from outside of class\n",
    "my_second_dog.say_name(8)"
   ]
  },
  {
   "cell_type": "code",
   "execution_count": null,
   "id": "ff408f24",
   "metadata": {},
   "outputs": [],
   "source": [
    "# new class for practice\n",
    "\n",
    "class Circle():\n",
    "    # class object attribute---pi is the same for all circles\n",
    "    pi = 3.14\n",
    "\n",
    "    def __init__(self, radius = 1): # radius = 1 is a default value\n",
    "        self.radius = radius\n",
    "        # don;t have to include attrubutes above---can define them here\n",
    "        self.area = (radius ** 2) * self.pi # pi R squared\n",
    "\n",
    "    def get_circumference(self):\n",
    "        # alternate way of calling class attribute objects---use class_name.class_object_attribute_name instead of self.class_attribute name\n",
    "        return Circle.pi * self.radius * 2"
   ]
  },
  {
   "cell_type": "code",
   "execution_count": 24,
   "id": "5bcec3c8",
   "metadata": {},
   "outputs": [],
   "source": [
    "my_circle = Circle()"
   ]
  },
  {
   "cell_type": "code",
   "execution_count": 26,
   "id": "a7666af1",
   "metadata": {},
   "outputs": [
    {
     "data": {
      "text/plain": [
       "1"
      ]
     },
     "execution_count": 26,
     "metadata": {},
     "output_type": "execute_result"
    }
   ],
   "source": [
    "my_circle.radius"
   ]
  },
  {
   "cell_type": "code",
   "execution_count": 27,
   "id": "0d008a9c",
   "metadata": {},
   "outputs": [
    {
     "data": {
      "text/plain": [
       "3.14"
      ]
     },
     "execution_count": 27,
     "metadata": {},
     "output_type": "execute_result"
    }
   ],
   "source": [
    "my_circle.pi"
   ]
  },
  {
   "cell_type": "code",
   "execution_count": 25,
   "id": "62cea9fe",
   "metadata": {},
   "outputs": [
    {
     "data": {
      "text/plain": [
       "6.28"
      ]
     },
     "execution_count": 25,
     "metadata": {},
     "output_type": "execute_result"
    }
   ],
   "source": [
    "my_circle.get_circumference()"
   ]
  },
  {
   "cell_type": "code",
   "execution_count": 28,
   "id": "84d925fc",
   "metadata": {},
   "outputs": [],
   "source": [
    "# second circle to add different radius than the default\n",
    "my_second_circle = Circle(3)"
   ]
  },
  {
   "cell_type": "code",
   "execution_count": 30,
   "id": "25f8313f",
   "metadata": {},
   "outputs": [
    {
     "data": {
      "text/plain": [
       "3"
      ]
     },
     "execution_count": 30,
     "metadata": {},
     "output_type": "execute_result"
    }
   ],
   "source": [
    "my_second_circle.radius"
   ]
  },
  {
   "cell_type": "code",
   "execution_count": 29,
   "id": "669889af",
   "metadata": {},
   "outputs": [
    {
     "data": {
      "text/plain": [
       "18.84"
      ]
     },
     "execution_count": 29,
     "metadata": {},
     "output_type": "execute_result"
    }
   ],
   "source": [
    "my_second_circle.get_circumference()"
   ]
  },
  {
   "cell_type": "code",
   "execution_count": 37,
   "id": "168bf305",
   "metadata": {},
   "outputs": [],
   "source": [
    "my_third_circle = Circle(5)"
   ]
  },
  {
   "cell_type": "code",
   "execution_count": 38,
   "id": "fcd3acbe",
   "metadata": {},
   "outputs": [
    {
     "data": {
      "text/plain": [
       "78.5"
      ]
     },
     "execution_count": 38,
     "metadata": {},
     "output_type": "execute_result"
    }
   ],
   "source": [
    "my_third_circle.area"
   ]
  },
  {
   "cell_type": "code",
   "execution_count": 34,
   "id": "6d9bf291",
   "metadata": {},
   "outputs": [
    {
     "data": {
      "text/plain": [
       "5"
      ]
     },
     "execution_count": 34,
     "metadata": {},
     "output_type": "execute_result"
    }
   ],
   "source": [
    "my_third_circle.radius"
   ]
  },
  {
   "cell_type": "code",
   "execution_count": 35,
   "id": "ee242cb6",
   "metadata": {},
   "outputs": [
    {
     "data": {
      "text/plain": [
       "31.400000000000002"
      ]
     },
     "execution_count": 35,
     "metadata": {},
     "output_type": "execute_result"
    }
   ],
   "source": [
    "my_third_circle.get_circumference()"
   ]
  },
  {
   "cell_type": "code",
   "execution_count": null,
   "id": "01bfe46b",
   "metadata": {},
   "outputs": [],
   "source": []
  }
 ],
 "metadata": {
  "kernelspec": {
   "display_name": "base",
   "language": "python",
   "name": "python3"
  },
  "language_info": {
   "codemirror_mode": {
    "name": "ipython",
    "version": 3
   },
   "file_extension": ".py",
   "mimetype": "text/x-python",
   "name": "python",
   "nbconvert_exporter": "python",
   "pygments_lexer": "ipython3",
   "version": "3.12.7"
  }
 },
 "nbformat": 4,
 "nbformat_minor": 5
}
