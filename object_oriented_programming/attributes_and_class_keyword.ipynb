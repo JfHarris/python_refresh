{
 "cells": [
  {
   "cell_type": "code",
   "execution_count": 2,
   "id": "2105337c",
   "metadata": {},
   "outputs": [],
   "source": [
    "# Attributes and Class keyword\n",
    "\n",
    "# use camel case for classes\n",
    "class Sample():\n",
    "    pass"
   ]
  },
  {
   "cell_type": "code",
   "execution_count": null,
   "id": "3ff0b9a9",
   "metadata": {},
   "outputs": [],
   "source": [
    "# creating an instance of Sample\n",
    "my_sample = Sample()"
   ]
  },
  {
   "cell_type": "code",
   "execution_count": 5,
   "id": "5bad250c",
   "metadata": {},
   "outputs": [
    {
     "data": {
      "text/plain": [
       "__main__.Sample"
      ]
     },
     "execution_count": 5,
     "metadata": {},
     "output_type": "execute_result"
    }
   ],
   "source": [
    "type(my_sample)"
   ]
  },
  {
   "cell_type": "code",
   "execution_count": null,
   "id": "96218d89",
   "metadata": {},
   "outputs": [],
   "source": [
    "# class attributes\n",
    "# attributes are characteristics of an object\n",
    "\n",
    "class Dog():\n",
    "    # __init__ is constructor for classes\n",
    "    # self refers to Dog in this case\n",
    "    # as a sentence self refers to the class it is in\n",
    "    def __init__(self, breed): # whatever comes after self is parameter name\n",
    "        # we take in argument...breed in this case\n",
    "        # then assign it using self.attribute_name\n",
    "        self.breed = breed\n",
    "        # whatever comes after self. is argument name---see below"
   ]
  },
  {
   "cell_type": "code",
   "execution_count": null,
   "id": "83567947",
   "metadata": {},
   "outputs": [
    {
     "ename": "TypeError",
     "evalue": "Dog.__init__() missing 1 required positional argument: 'breed'",
     "output_type": "error",
     "traceback": [
      "\u001b[1;31m---------------------------------------------------------------------------\u001b[0m",
      "\u001b[1;31mTypeError\u001b[0m                                 Traceback (most recent call last)",
      "Cell \u001b[1;32mIn[7], line 3\u001b[0m\n\u001b[0;32m      1\u001b[0m \u001b[38;5;66;03m# what happens if you run without arg\u001b[39;00m\n\u001b[1;32m----> 3\u001b[0m my_dog \u001b[38;5;241m=\u001b[39m Dog()\n",
      "\u001b[1;31mTypeError\u001b[0m: Dog.__init__() missing 1 required positional argument: 'breed'"
     ]
    }
   ],
   "source": [
    "# what happens if you run without arg, since Dog class has one attribute now...breed\n",
    "\n",
    "my_dog = Dog()"
   ]
  },
  {
   "cell_type": "code",
   "execution_count": 8,
   "id": "b7a343d0",
   "metadata": {},
   "outputs": [],
   "source": [
    "# adding arg\n",
    "\n",
    "my_dog = Dog(breed=\"Labrador\")"
   ]
  },
  {
   "cell_type": "code",
   "execution_count": 9,
   "id": "bdb27161",
   "metadata": {},
   "outputs": [
    {
     "data": {
      "text/plain": [
       "__main__.Dog"
      ]
     },
     "execution_count": 9,
     "metadata": {},
     "output_type": "execute_result"
    }
   ],
   "source": [
    "# type will show that my_dog is an instance of Dog\n",
    "type(my_dog)"
   ]
  },
  {
   "cell_type": "code",
   "execution_count": 10,
   "id": "8b5e5cde",
   "metadata": {},
   "outputs": [
    {
     "data": {
      "text/plain": [
       "'Labrador'"
      ]
     },
     "execution_count": 10,
     "metadata": {},
     "output_type": "execute_result"
    }
   ],
   "source": [
    "my_dog.breed"
   ]
  },
  {
   "cell_type": "code",
   "execution_count": null,
   "id": "1bdb9bf4",
   "metadata": {},
   "outputs": [],
   "source": [
    "# putting the above in a different way to show the differnce between param name and attribute name\n",
    "# this way is unconventional---use Dog syntax i.e. def __init__(self, breed) AND self.breed = breed\n",
    "\n",
    "class Dog2():\n",
    "    # __init__ is constructor for classes\n",
    "    # self refers to Dog2 in this case\n",
    "    # as a sentence self refers to the class it is in\n",
    "    def __init__(self, my_breed): # whatever comes after self is parameter name\n",
    "        # we take in argument...breed in this case\n",
    "        # then assign it using self.attribute_name\n",
    "        self.my_attribute = my_breed\n",
    "        # whatever comes after self. is argument name---see below"
   ]
  },
  {
   "cell_type": "code",
   "execution_count": 12,
   "id": "a1c2d5ed",
   "metadata": {},
   "outputs": [],
   "source": [
    "my_dog2 = Dog2(my_breed=\"Huskie\")"
   ]
  },
  {
   "cell_type": "code",
   "execution_count": 13,
   "id": "9c60f7be",
   "metadata": {},
   "outputs": [
    {
     "data": {
      "text/plain": [
       "__main__.Dog2"
      ]
     },
     "execution_count": 13,
     "metadata": {},
     "output_type": "execute_result"
    }
   ],
   "source": [
    "type(my_dog2)"
   ]
  },
  {
   "cell_type": "code",
   "execution_count": 14,
   "id": "b749ce32",
   "metadata": {},
   "outputs": [
    {
     "data": {
      "text/plain": [
       "'Huskie'"
      ]
     },
     "execution_count": 14,
     "metadata": {},
     "output_type": "execute_result"
    }
   ],
   "source": [
    "my_dog2.my_attribute"
   ]
  },
  {
   "cell_type": "code",
   "execution_count": null,
   "id": "ce99fe2d",
   "metadata": {},
   "outputs": [],
   "source": [
    "# back to Dog and adding attributes\n",
    "# if expecting others to use your classes, ADD DOCUMENTATION...see below\n",
    "# can institute type control if necessary/desired\n",
    "\n",
    "class Dog():\n",
    "\n",
    "    def __init__(self, breed, name, spots):\n",
    "\n",
    "        self.breed = breed # expect str\n",
    "        self.name = name # expect str\n",
    "        self.spots = spots # expect boolean...True/False"
   ]
  },
  {
   "cell_type": "code",
   "execution_count": 16,
   "id": "47da7ada",
   "metadata": {},
   "outputs": [],
   "source": [
    "my_new_dog = Dog(breed = \"Bassett\", name = \"Dork\", spots = False)"
   ]
  },
  {
   "cell_type": "code",
   "execution_count": 17,
   "id": "26512330",
   "metadata": {},
   "outputs": [
    {
     "data": {
      "text/plain": [
       "__main__.Dog"
      ]
     },
     "execution_count": 17,
     "metadata": {},
     "output_type": "execute_result"
    }
   ],
   "source": [
    "type(my_new_dog)"
   ]
  },
  {
   "cell_type": "code",
   "execution_count": 18,
   "id": "77c75a7f",
   "metadata": {},
   "outputs": [
    {
     "data": {
      "text/plain": [
       "'Bassett'"
      ]
     },
     "execution_count": 18,
     "metadata": {},
     "output_type": "execute_result"
    }
   ],
   "source": [
    "my_new_dog.breed"
   ]
  },
  {
   "cell_type": "code",
   "execution_count": 19,
   "id": "76053175",
   "metadata": {},
   "outputs": [
    {
     "data": {
      "text/plain": [
       "'Dork'"
      ]
     },
     "execution_count": 19,
     "metadata": {},
     "output_type": "execute_result"
    }
   ],
   "source": [
    "my_new_dog.name"
   ]
  },
  {
   "cell_type": "code",
   "execution_count": 20,
   "id": "dd8088b3",
   "metadata": {},
   "outputs": [
    {
     "data": {
      "text/plain": [
       "False"
      ]
     },
     "execution_count": 20,
     "metadata": {},
     "output_type": "execute_result"
    }
   ],
   "source": [
    "my_new_dog.spots"
   ]
  },
  {
   "cell_type": "code",
   "execution_count": null,
   "id": "f1a28872",
   "metadata": {},
   "outputs": [],
   "source": []
  }
 ],
 "metadata": {
  "kernelspec": {
   "display_name": "base",
   "language": "python",
   "name": "python3"
  },
  "language_info": {
   "codemirror_mode": {
    "name": "ipython",
    "version": 3
   },
   "file_extension": ".py",
   "mimetype": "text/x-python",
   "name": "python",
   "nbconvert_exporter": "python",
   "pygments_lexer": "ipython3",
   "version": "3.12.7"
  }
 },
 "nbformat": 4,
 "nbformat_minor": 5
}
