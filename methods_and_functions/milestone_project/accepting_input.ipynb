{
 "cells": [
  {
   "cell_type": "code",
   "execution_count": 1,
   "id": "be1fcddd",
   "metadata": {},
   "outputs": [
    {
     "data": {
      "text/plain": [
       "'2'"
      ]
     },
     "execution_count": 1,
     "metadata": {},
     "output_type": "execute_result"
    }
   ],
   "source": [
    "# accepting user input\n",
    "input(\"Please enter a value: \")"
   ]
  },
  {
   "cell_type": "code",
   "execution_count": 2,
   "id": "d08efd63",
   "metadata": {},
   "outputs": [],
   "source": [
    "result = input(\"Please enter a value: \")"
   ]
  },
  {
   "cell_type": "code",
   "execution_count": 3,
   "id": "692daace",
   "metadata": {},
   "outputs": [
    {
     "data": {
      "text/plain": [
       "'2'"
      ]
     },
     "execution_count": 3,
     "metadata": {},
     "output_type": "execute_result"
    }
   ],
   "source": [
    "result"
   ]
  },
  {
   "cell_type": "code",
   "execution_count": 4,
   "id": "dfd41a62",
   "metadata": {},
   "outputs": [
    {
     "data": {
      "text/plain": [
       "str"
      ]
     },
     "execution_count": 4,
     "metadata": {},
     "output_type": "execute_result"
    }
   ],
   "source": [
    "type(result)"
   ]
  },
  {
   "cell_type": "code",
   "execution_count": null,
   "id": "f4b7dee4",
   "metadata": {},
   "outputs": [
    {
     "data": {
      "text/plain": [
       "int"
      ]
     },
     "execution_count": 7,
     "metadata": {},
     "output_type": "execute_result"
    }
   ],
   "source": [
    "# may need to cast input to a different type\n",
    "result_int = int(result)\n",
    "type(result_int)"
   ]
  },
  {
   "cell_type": "code",
   "execution_count": 8,
   "id": "9c142e0a",
   "metadata": {},
   "outputs": [],
   "source": [
    "row1 = [\" \", \" \", \" \"]\n",
    "row2 = [\" \", \" \", \" \"]\n",
    "row3 = [\" \", \" \", \" \"]"
   ]
  },
  {
   "cell_type": "code",
   "execution_count": 9,
   "id": "005d7c01",
   "metadata": {},
   "outputs": [],
   "source": [
    "position_index = int(input(\"Please enter an index position: \"))"
   ]
  },
  {
   "cell_type": "code",
   "execution_count": 10,
   "id": "2edc4116",
   "metadata": {},
   "outputs": [
    {
     "data": {
      "text/plain": [
       "' '"
      ]
     },
     "execution_count": 10,
     "metadata": {},
     "output_type": "execute_result"
    }
   ],
   "source": [
    "row1[position_index]"
   ]
  },
  {
   "cell_type": "code",
   "execution_count": 11,
   "id": "99d2983f",
   "metadata": {},
   "outputs": [],
   "source": [
    "# must use a legitimate input if you're trying to cast to some types\n",
    "# symbols, words, etc can't be converted to an int, float, etc."
   ]
  },
  {
   "cell_type": "code",
   "execution_count": null,
   "id": "09f2be03",
   "metadata": {},
   "outputs": [],
   "source": [
    "# input also requires an inout to finish running\n",
    "# ALWAYS FINISH INPUT PROCESS\n",
    "# may need to restart kernel in some instances"
   ]
  }
 ],
 "metadata": {
  "kernelspec": {
   "display_name": "base",
   "language": "python",
   "name": "python3"
  },
  "language_info": {
   "codemirror_mode": {
    "name": "ipython",
    "version": 3
   },
   "file_extension": ".py",
   "mimetype": "text/x-python",
   "name": "python",
   "nbconvert_exporter": "python",
   "pygments_lexer": "ipython3",
   "version": "3.12.7"
  }
 },
 "nbformat": 4,
 "nbformat_minor": 5
}
