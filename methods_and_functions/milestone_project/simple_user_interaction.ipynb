{
 "cells": [
  {
   "cell_type": "code",
   "execution_count": 1,
   "id": "80bd101e",
   "metadata": {},
   "outputs": [],
   "source": [
    "# Program will:\n",
    "\n",
    "# display a list\n",
    "# have user choose an index position and a value to place at that index\n",
    "# replace value at that index position with chosen value"
   ]
  },
  {
   "cell_type": "code",
   "execution_count": 1,
   "id": "6dd8bcb0",
   "metadata": {},
   "outputs": [],
   "source": [
    "game_list = [0, 1, 2]"
   ]
  },
  {
   "cell_type": "code",
   "execution_count": 2,
   "id": "d6d4d759",
   "metadata": {},
   "outputs": [],
   "source": [
    "def display_game(game_list):\n",
    "    print(\"Here is the current list:\")\n",
    "    print(game_list)"
   ]
  },
  {
   "cell_type": "code",
   "execution_count": 3,
   "id": "9c23bc85",
   "metadata": {},
   "outputs": [
    {
     "name": "stdout",
     "output_type": "stream",
     "text": [
      "Here is the current list:\n",
      "[0, 1, 2]\n"
     ]
    }
   ],
   "source": [
    "display_game(game_list)"
   ]
  },
  {
   "cell_type": "code",
   "execution_count": 6,
   "id": "30bc08d6",
   "metadata": {},
   "outputs": [],
   "source": [
    "def position_choice():\n",
    "\n",
    "    choice = \"wrong\"\n",
    "\n",
    "    while choice not in [\"0\", \"1\", \"2\"]:\n",
    "\n",
    "        choice = input(\"Please pick a position: (0, 1, 2): \")\n",
    "\n",
    "        if choice not in [\"0\", \"1\", \"2\"]:\n",
    "            print(\"Sorry, that is not a valid choice!\")\n",
    "\n",
    "    return int(choice)"
   ]
  },
  {
   "cell_type": "code",
   "execution_count": 7,
   "id": "8b97ad7e",
   "metadata": {},
   "outputs": [
    {
     "name": "stdout",
     "output_type": "stream",
     "text": [
      "Sorry, that is not a valid choice!\n"
     ]
    },
    {
     "data": {
      "text/plain": [
       "2"
      ]
     },
     "execution_count": 7,
     "metadata": {},
     "output_type": "execute_result"
    }
   ],
   "source": [
    "position_choice()"
   ]
  },
  {
   "cell_type": "code",
   "execution_count": 8,
   "id": "661cb6a4",
   "metadata": {},
   "outputs": [],
   "source": [
    "def replacement_choice(game_list, position):\n",
    "\n",
    "    user_placement = input(\"Type a string to place at position: \")\n",
    "\n",
    "    game_list[position] = user_placement\n",
    "\n",
    "    return game_list"
   ]
  },
  {
   "cell_type": "code",
   "execution_count": 9,
   "id": "1eaa830d",
   "metadata": {},
   "outputs": [
    {
     "data": {
      "text/plain": [
       "[0, 'test', 2]"
      ]
     },
     "execution_count": 9,
     "metadata": {},
     "output_type": "execute_result"
    }
   ],
   "source": [
    "replacement_choice(game_list, 1)"
   ]
  },
  {
   "cell_type": "code",
   "execution_count": 10,
   "id": "420dbe4b",
   "metadata": {},
   "outputs": [],
   "source": [
    "def game_on_choice():\n",
    "\n",
    "    play_choice = \"wrong\"\n",
    "\n",
    "    while play_choice not in [\"Y\", \"N\"]:\n",
    "\n",
    "        play_choice = input(\"Keep playing? (Y or N\")\n",
    "\n",
    "        if play_choice not in [\"Y\", \"N\"]:\n",
    "            print(\"Sorry, I don't understand. Please choose Y or N\")\n",
    "\n",
    "    if play_choice == \"Y\":\n",
    "        return True\n",
    "    else:\n",
    "        return False"
   ]
  },
  {
   "cell_type": "code",
   "execution_count": 12,
   "id": "7e06a5fc",
   "metadata": {},
   "outputs": [
    {
     "data": {
      "text/plain": [
       "True"
      ]
     },
     "execution_count": 12,
     "metadata": {},
     "output_type": "execute_result"
    }
   ],
   "source": [
    "game_on_choice()"
   ]
  },
  {
   "cell_type": "code",
   "execution_count": 14,
   "id": "cb511c30",
   "metadata": {},
   "outputs": [
    {
     "name": "stdout",
     "output_type": "stream",
     "text": [
      "Here is the current list:\n",
      "[0, 1, 2]\n",
      "Sorry, that is not a valid choice!\n",
      "Here is the current list:\n",
      "[0, 'next', 2]\n",
      "Here is the current list:\n",
      "[0, 'next', 2]\n",
      "Here is the current list:\n",
      "[0, 'next', 'ouch']\n"
     ]
    }
   ],
   "source": [
    "game_on = True\n",
    "game_list = [0, 1, 2]\n",
    "\n",
    "while game_on:\n",
    "\n",
    "    display_game(game_list)\n",
    "    position = position_choice()\n",
    "    game_list = replacement_choice(game_list, position)\n",
    "    display_game(game_list)\n",
    "    game_on = game_on_choice()"
   ]
  },
  {
   "cell_type": "code",
   "execution_count": null,
   "id": "ca642d04",
   "metadata": {},
   "outputs": [],
   "source": []
  }
 ],
 "metadata": {
  "kernelspec": {
   "display_name": "base",
   "language": "python",
   "name": "python3"
  },
  "language_info": {
   "codemirror_mode": {
    "name": "ipython",
    "version": 3
   },
   "file_extension": ".py",
   "mimetype": "text/x-python",
   "name": "python",
   "nbconvert_exporter": "python",
   "pygments_lexer": "ipython3",
   "version": "3.12.7"
  }
 },
 "nbformat": 4,
 "nbformat_minor": 5
}
