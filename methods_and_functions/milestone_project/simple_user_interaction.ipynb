{
 "cells": [
  {
   "cell_type": "code",
   "execution_count": null,
   "id": "80bd101e",
   "metadata": {},
   "outputs": [],
   "source": [
    "# Program will:\n",
    "\n",
    "# display a list\n",
    "# have user choose an index position and a value to place at that index\n",
    "# replace value at that index position with chosen value"
   ]
  }
 ],
 "metadata": {
  "kernelspec": {
   "display_name": "base",
   "language": "python",
   "name": "python3"
  },
  "language_info": {
   "name": "python",
   "version": "3.12.7"
  }
 },
 "nbformat": 4,
 "nbformat_minor": 5
}
