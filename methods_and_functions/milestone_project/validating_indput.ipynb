{
 "cells": [
  {
   "cell_type": "code",
   "execution_count": null,
   "id": "1ec836ac",
   "metadata": {},
   "outputs": [],
   "source": [
    "# validating user input\n",
    "# very rudimentary input\n",
    "\n",
    "def user_choice():\n",
    "\n",
    "    choice = input(\"Please enter a number (0 - 10): \")\n",
    "\n",
    "    return int(choice)"
   ]
  },
  {
   "cell_type": "code",
   "execution_count": null,
   "id": "05dc9b4d",
   "metadata": {},
   "outputs": [
    {
     "ename": "ValueError",
     "evalue": "invalid literal for int() with base 10: 'nine'",
     "output_type": "error",
     "traceback": [
      "\u001b[1;31m---------------------------------------------------------------------------\u001b[0m",
      "\u001b[1;31mValueError\u001b[0m                                Traceback (most recent call last)",
      "Cell \u001b[1;32mIn[5], line 1\u001b[0m\n\u001b[1;32m----> 1\u001b[0m user_choice()\n",
      "Cell \u001b[1;32mIn[3], line 7\u001b[0m, in \u001b[0;36muser_choice\u001b[1;34m()\u001b[0m\n\u001b[0;32m      3\u001b[0m \u001b[38;5;28;01mdef\u001b[39;00m \u001b[38;5;21muser_choice\u001b[39m():\n\u001b[0;32m      5\u001b[0m     choice \u001b[38;5;241m=\u001b[39m \u001b[38;5;28minput\u001b[39m(\u001b[38;5;124m\"\u001b[39m\u001b[38;5;124mPlease enter a number (0 - 10): \u001b[39m\u001b[38;5;124m\"\u001b[39m)\n\u001b[1;32m----> 7\u001b[0m     \u001b[38;5;28;01mreturn\u001b[39;00m \u001b[38;5;28mint\u001b[39m(choice)\n",
      "\u001b[1;31mValueError\u001b[0m: invalid literal for int() with base 10: 'nine'"
     ]
    }
   ],
   "source": [
    "# entering \"nine\" instead of 9 will result in error\n",
    "user_choice()"
   ]
  },
  {
   "cell_type": "code",
   "execution_count": null,
   "id": "2d703432",
   "metadata": {},
   "outputs": [
    {
     "data": {
      "text/plain": [
       "False"
      ]
     },
     "execution_count": 9,
     "metadata": {},
     "output_type": "execute_result"
    }
   ],
   "source": [
    "# isdigit method\n",
    "some_val = \"100\"\n",
    "some_val.isdigit()"
   ]
  },
  {
   "cell_type": "code",
   "execution_count": null,
   "id": "eda14db6",
   "metadata": {},
   "outputs": [
    {
     "data": {
      "text/plain": [
       "False"
      ]
     },
     "execution_count": 11,
     "metadata": {},
     "output_type": "execute_result"
    }
   ],
   "source": [
    "# converting to int requires str be a digit---isdigit helps check that---compare with above\n",
    "wrong_val = \"one hundred\"\n",
    "wrong_val.isdigit()"
   ]
  },
  {
   "cell_type": "code",
   "execution_count": 1,
   "id": "c594d44a",
   "metadata": {},
   "outputs": [],
   "source": [
    "def user_choice():\n",
    "    # base value for choice---can't be true to use while loop below\n",
    "    choice = \"wrong\"\n",
    "\n",
    "    # while loop keeps running until a useful input is received\n",
    "    while choice.isdigit() == False:\n",
    "        choice = input(\"Please enter a number (0 - 10): \")\n",
    "        # guiding user to enter a digit\n",
    "        if choice.isdigit() == False:\n",
    "            print(\"Sorry, that is not a digit.\")\n",
    "\n",
    "    return int(choice)"
   ]
  },
  {
   "cell_type": "code",
   "execution_count": 3,
   "id": "86e99672",
   "metadata": {},
   "outputs": [
    {
     "name": "stdout",
     "output_type": "stream",
     "text": [
      "Sorry, that is not a digit.\n"
     ]
    },
    {
     "data": {
      "text/plain": [
       "10"
      ]
     },
     "execution_count": 3,
     "metadata": {},
     "output_type": "execute_result"
    }
   ],
   "source": [
    "user_choice()"
   ]
  },
  {
   "cell_type": "code",
   "execution_count": null,
   "id": "937ac4ec",
   "metadata": {},
   "outputs": [],
   "source": [
    "# checking for acceptable values---0 to 10\n",
    "\n",
    "def user_choice():\n",
    "\n",
    "    # VARIABLES\n",
    "    # base value for choice---can't be true to use while loop below\n",
    "    choice = \"wrong\"\n",
    "    # range for acceptable values---could also use a list like [1, 2, ..., 10] but it'sless realistic the larger the range gets\n",
    "    acceptable_range = range(0, 10)\n",
    "    # setting initial value to false to allow running loop\n",
    "    within_range = False\n",
    "\n",
    "\n",
    "\n",
    "    # while loop keeps running until a useful input is received and input is between 0 and 10\n",
    "    while choice.isdigit() == False or within_range == False:\n",
    "\n",
    "        choice = input(\"Please enter a number (0 - 10): \")\n",
    "\n",
    "        # guiding user to enter a digit\n",
    "        if choice.isdigit() == False:\n",
    "            print(\"Sorry, that is not a digit.\")\n",
    "        \n",
    "        # checking range---keeping checks in place to maintain readability\n",
    "        if choice.isdigit() == True:\n",
    "            if int(choice) in acceptable_range:\n",
    "                within_range = True\n",
    "            else:\n",
    "                print(\"Sorry you are out of acceptable range (0 to 10).\")\n",
    "                within_range = False\n",
    "\n",
    "    return int(choice)"
   ]
  },
  {
   "cell_type": "code",
   "execution_count": 8,
   "id": "18102414",
   "metadata": {},
   "outputs": [
    {
     "name": "stdout",
     "output_type": "stream",
     "text": [
      "Sorry, that is not a digit.\n",
      "Sorry you are out of acceptable range (0 to 10).\n"
     ]
    },
    {
     "data": {
      "text/plain": [
       "3"
      ]
     },
     "execution_count": 8,
     "metadata": {},
     "output_type": "execute_result"
    }
   ],
   "source": [
    "user_choice()"
   ]
  }
 ],
 "metadata": {
  "kernelspec": {
   "display_name": "base",
   "language": "python",
   "name": "python3"
  },
  "language_info": {
   "codemirror_mode": {
    "name": "ipython",
    "version": 3
   },
   "file_extension": ".py",
   "mimetype": "text/x-python",
   "name": "python",
   "nbconvert_exporter": "python",
   "pygments_lexer": "ipython3",
   "version": "3.12.7"
  }
 },
 "nbformat": 4,
 "nbformat_minor": 5
}
