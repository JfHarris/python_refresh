{
 "cells": [
  {
   "cell_type": "code",
   "execution_count": 1,
   "id": "85d52bfb",
   "metadata": {},
   "outputs": [],
   "source": [
    "# def keyword creates functions --- syntax follows\n",
    "\n",
    "# def name_of_function(argument(s)/parameter(s) if needed):\n",
    "#   '''Docstring explains function multi-line ''' or \"\"\"docstring explains function multi-line\"\"\"\n",
    "#   code to be executed below docstring\n",
    "#   print(\"hello\")\n",
    "\n",
    "# calling a function below\n",
    "# name_of_function()\n",
    "\n",
    "# output below\n",
    "# hello"
   ]
  },
  {
   "cell_type": "code",
   "execution_count": 2,
   "id": "795a66f6",
   "metadata": {},
   "outputs": [],
   "source": [
    "def name_of_function():\n",
    "    \"\"\"This just prints hello when called\"\"\"\n",
    "    print(\"Hello\")"
   ]
  },
  {
   "cell_type": "code",
   "execution_count": 3,
   "id": "32e90348",
   "metadata": {},
   "outputs": [
    {
     "name": "stdout",
     "output_type": "stream",
     "text": [
      "Hello\n"
     ]
    }
   ],
   "source": [
    "name_of_function()"
   ]
  },
  {
   "cell_type": "code",
   "execution_count": null,
   "id": "9fb87260",
   "metadata": {},
   "outputs": [],
   "source": [
    "# adding an argument\n",
    "def print_hello_you(name):\n",
    "    \"\"\"Prints hello and entered name\"\"\"\n",
    "    print(\"Hello \" + name)"
   ]
  },
  {
   "cell_type": "code",
   "execution_count": 6,
   "id": "7e8570eb",
   "metadata": {},
   "outputs": [
    {
     "name": "stdout",
     "output_type": "stream",
     "text": [
      "Hello John\n"
     ]
    }
   ],
   "source": [
    "print_hello_you(\"John\")"
   ]
  },
  {
   "cell_type": "code",
   "execution_count": 14,
   "id": "947ee7ea",
   "metadata": {},
   "outputs": [],
   "source": [
    "# return keyword\n",
    "# allows you assign the output of the function to a new variable\n",
    "def print_with_return(name):\n",
    "    \"\"\"Uses return to print hello + name\"\"\"\n",
    "    return \"Hello \" + name"
   ]
  },
  {
   "cell_type": "code",
   "execution_count": 15,
   "id": "f7f3f141",
   "metadata": {},
   "outputs": [
    {
     "data": {
      "text/plain": [
       "'Hello John'"
      ]
     },
     "execution_count": 15,
     "metadata": {},
     "output_type": "execute_result"
    }
   ],
   "source": [
    "print_with_return(\"John\")"
   ]
  },
  {
   "cell_type": "code",
   "execution_count": 11,
   "id": "8bad4e89",
   "metadata": {},
   "outputs": [],
   "source": [
    "def add_function(a, b):\n",
    "    \"\"\"Adds numbers\"\"\"\n",
    "    return a + b"
   ]
  },
  {
   "cell_type": "code",
   "execution_count": 12,
   "id": "80b083b0",
   "metadata": {},
   "outputs": [
    {
     "data": {
      "text/plain": [
       "3"
      ]
     },
     "execution_count": 12,
     "metadata": {},
     "output_type": "execute_result"
    }
   ],
   "source": [
    "add_function(1, 2)"
   ]
  },
  {
   "cell_type": "code",
   "execution_count": 13,
   "id": "71350027",
   "metadata": {},
   "outputs": [
    {
     "data": {
      "text/plain": [
       "17"
      ]
     },
     "execution_count": 13,
     "metadata": {},
     "output_type": "execute_result"
    }
   ],
   "source": [
    "sum = add_function(8, 9)\n",
    "sum"
   ]
  }
 ],
 "metadata": {
  "kernelspec": {
   "display_name": "base",
   "language": "python",
   "name": "python3"
  },
  "language_info": {
   "codemirror_mode": {
    "name": "ipython",
    "version": 3
   },
   "file_extension": ".py",
   "mimetype": "text/x-python",
   "name": "python",
   "nbconvert_exporter": "python",
   "pygments_lexer": "ipython3",
   "version": "3.12.7"
  }
 },
 "nbformat": 4,
 "nbformat_minor": 5
}
