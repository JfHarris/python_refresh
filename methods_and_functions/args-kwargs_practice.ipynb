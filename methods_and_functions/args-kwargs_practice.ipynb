{
 "cells": [
  {
   "cell_type": "code",
   "execution_count": null,
   "id": "4e93e083",
   "metadata": {},
   "outputs": [],
   "source": [
    "# my solutions\n",
    "\n",
    "def myfunc(*args):\n",
    "    \n",
    "    new_str = \"\"\n",
    "    position = 0\n",
    "    \n",
    "    for letter in args:\n",
    "        if position % 2 == 0:\n",
    "            new_str += letter.upper()\n",
    "            position += 1\n",
    "        else:\n",
    "            new_str += letter.lower()\n",
    "            position += 1\n",
    "    return new_str"
   ]
  },
  {
   "cell_type": "code",
   "execution_count": 18,
   "id": "4e8bf6e4",
   "metadata": {},
   "outputs": [
    {
     "data": {
      "text/plain": [
       "'StRiNg'"
      ]
     },
     "execution_count": 18,
     "metadata": {},
     "output_type": "execute_result"
    }
   ],
   "source": [
    "myfunc(\"s\", \"t\", \"r\", \"i\", \"n\", \"g\")"
   ]
  },
  {
   "cell_type": "code",
   "execution_count": 19,
   "id": "669def67",
   "metadata": {},
   "outputs": [],
   "source": [
    "def myfunc(*args):\n",
    "    return sum(args)"
   ]
  },
  {
   "cell_type": "code",
   "execution_count": 20,
   "id": "b97af965",
   "metadata": {},
   "outputs": [
    {
     "data": {
      "text/plain": [
       "3"
      ]
     },
     "execution_count": 20,
     "metadata": {},
     "output_type": "execute_result"
    }
   ],
   "source": [
    "myfunc(1, 2)"
   ]
  },
  {
   "cell_type": "code",
   "execution_count": 21,
   "id": "a2523708",
   "metadata": {},
   "outputs": [],
   "source": [
    "def myfunc(*args):\n",
    "    \n",
    "    even_list = []\n",
    "    \n",
    "    for arg in args:\n",
    "        if arg % 2 == 0:\n",
    "            even_list.append(arg)\n",
    "    return even_list"
   ]
  },
  {
   "cell_type": "code",
   "execution_count": 22,
   "id": "252e0a2a",
   "metadata": {},
   "outputs": [
    {
     "data": {
      "text/plain": [
       "[2, 4]"
      ]
     },
     "execution_count": 22,
     "metadata": {},
     "output_type": "execute_result"
    }
   ],
   "source": [
    "myfunc(1, 2, 3, 4)"
   ]
  }
 ],
 "metadata": {
  "kernelspec": {
   "display_name": "base",
   "language": "python",
   "name": "python3"
  },
  "language_info": {
   "codemirror_mode": {
    "name": "ipython",
    "version": 3
   },
   "file_extension": ".py",
   "mimetype": "text/x-python",
   "name": "python",
   "nbconvert_exporter": "python",
   "pygments_lexer": "ipython3",
   "version": "3.12.7"
  }
 },
 "nbformat": 4,
 "nbformat_minor": 5
}
