{
 "cells": [
  {
   "cell_type": "code",
   "execution_count": null,
   "id": "25face29",
   "metadata": {},
   "outputs": [],
   "source": [
    "# Functions intro\n",
    "# functions allow us to create reusable blocks of code without retyping it"
   ]
  }
 ],
 "metadata": {
  "language_info": {
   "name": "python"
  }
 },
 "nbformat": 4,
 "nbformat_minor": 5
}
