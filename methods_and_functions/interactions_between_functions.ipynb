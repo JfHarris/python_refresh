{
 "cells": [
  {
   "cell_type": "code",
   "execution_count": 1,
   "id": "37354c34",
   "metadata": {},
   "outputs": [],
   "source": [
    "# interactions between functions\n",
    "# recreating 3 card monte\n",
    "\n",
    "from random import shuffle"
   ]
  },
  {
   "cell_type": "code",
   "execution_count": 2,
   "id": "3f849b8f",
   "metadata": {},
   "outputs": [],
   "source": [
    "example = [1, 2, 3, 4, 5, 6, 7]"
   ]
  },
  {
   "cell_type": "code",
   "execution_count": 4,
   "id": "4fecaa72",
   "metadata": {},
   "outputs": [
    {
     "data": {
      "text/plain": [
       "[5, 7, 4, 3, 6, 2, 1]"
      ]
     },
     "execution_count": 4,
     "metadata": {},
     "output_type": "execute_result"
    }
   ],
   "source": [
    "shuffle(example)\n",
    "example"
   ]
  },
  {
   "cell_type": "code",
   "execution_count": 5,
   "id": "45b1c0c1",
   "metadata": {},
   "outputs": [],
   "source": [
    "def shuffle_list(my_list):\n",
    "    shuffle(my_list)\n",
    "    return my_list"
   ]
  },
  {
   "cell_type": "code",
   "execution_count": 8,
   "id": "e201355a",
   "metadata": {},
   "outputs": [
    {
     "data": {
      "text/plain": [
       "[3, 5, 2, 1, 6, 7, 4]"
      ]
     },
     "execution_count": 8,
     "metadata": {},
     "output_type": "execute_result"
    }
   ],
   "source": [
    "# run this multiple times to see the different shuffles\n",
    "shuffle_list(example)"
   ]
  },
  {
   "cell_type": "code",
   "execution_count": 9,
   "id": "e4ccd209",
   "metadata": {},
   "outputs": [],
   "source": [
    "# 3 card monte game\n",
    "my_list = [\" \", \"0\", \" \"]"
   ]
  },
  {
   "cell_type": "code",
   "execution_count": 11,
   "id": "7acdbfe0",
   "metadata": {},
   "outputs": [
    {
     "data": {
      "text/plain": [
       "['0', ' ', ' ']"
      ]
     },
     "execution_count": 11,
     "metadata": {},
     "output_type": "execute_result"
    }
   ],
   "source": [
    "shuffle_list(my_list)"
   ]
  },
  {
   "cell_type": "code",
   "execution_count": 14,
   "id": "90019742",
   "metadata": {},
   "outputs": [],
   "source": [
    "def player_guess():\n",
    "\n",
    "    user_guess = \"\"\n",
    "    # ensuring guess is entered correctly\n",
    "    while user_guess not in [\"0\", \"1\", \"2\"]:\n",
    "        user_guess = input(\"Pick a number: 0, 1, or 2\")\n",
    "    \n",
    "    return int(user_guess)"
   ]
  },
  {
   "cell_type": "code",
   "execution_count": 16,
   "id": "8816d4f6",
   "metadata": {},
   "outputs": [],
   "source": [
    "my_int = player_guess()"
   ]
  },
  {
   "cell_type": "code",
   "execution_count": 17,
   "id": "c19e76b6",
   "metadata": {},
   "outputs": [
    {
     "data": {
      "text/plain": [
       "2"
      ]
     },
     "execution_count": 17,
     "metadata": {},
     "output_type": "execute_result"
    }
   ],
   "source": [
    "my_int"
   ]
  },
  {
   "cell_type": "code",
   "execution_count": 21,
   "id": "e14a9843",
   "metadata": {},
   "outputs": [],
   "source": [
    "def check_guess(my_list, player_guess):\n",
    "\n",
    "    if my_list[player_guess] == \"0\":\n",
    "        print(\"Correct!\")\n",
    "    else:\n",
    "        print(\"Try again!\")\n",
    "        print(my_list)"
   ]
  },
  {
   "cell_type": "code",
   "execution_count": 26,
   "id": "ea78b1b5",
   "metadata": {},
   "outputs": [
    {
     "name": "stdout",
     "output_type": "stream",
     "text": [
      "Correct!\n"
     ]
    }
   ],
   "source": [
    "# initial list\n",
    "my_list = [\" \", \"0\", \" \"]\n",
    "\n",
    "# shuffle list\n",
    "mixedUp_list = shuffle(my_list)\n",
    "\n",
    "# user guess\n",
    "guess = player_guess()\n",
    "\n",
    "# check guess\n",
    "check_guess(my_list, guess)"
   ]
  }
 ],
 "metadata": {
  "kernelspec": {
   "display_name": "base",
   "language": "python",
   "name": "python3"
  },
  "language_info": {
   "codemirror_mode": {
    "name": "ipython",
    "version": 3
   },
   "file_extension": ".py",
   "mimetype": "text/x-python",
   "name": "python",
   "nbconvert_exporter": "python",
   "pygments_lexer": "ipython3",
   "version": "3.12.7"
  }
 },
 "nbformat": 4,
 "nbformat_minor": 5
}
