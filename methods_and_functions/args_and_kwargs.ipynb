{
 "cells": [
  {
   "cell_type": "code",
   "execution_count": null,
   "id": "b290f934",
   "metadata": {},
   "outputs": [],
   "source": [
    "# *args and **kwargs\n",
    "# arguments and keyword arguments\n",
    "# allows you to accept an arbitrary number args/kwargs"
   ]
  },
  {
   "cell_type": "code",
   "execution_count": 2,
   "id": "201ba17a",
   "metadata": {},
   "outputs": [],
   "source": [
    "# returns 5% of sum of a and b\n",
    "def my_func(a, b):\n",
    "    return ((a + b) * 0.05)"
   ]
  },
  {
   "cell_type": "code",
   "execution_count": 3,
   "id": "3eea0f2e",
   "metadata": {},
   "outputs": [
    {
     "data": {
      "text/plain": [
       "5.0"
      ]
     },
     "execution_count": 3,
     "metadata": {},
     "output_type": "execute_result"
    }
   ],
   "source": [
    "my_func(10, 90)"
   ]
  },
  {
   "cell_type": "code",
   "execution_count": 4,
   "id": "c79d2ef5",
   "metadata": {},
   "outputs": [
    {
     "ename": "TypeError",
     "evalue": "my_func() takes 2 positional arguments but 3 were given",
     "output_type": "error",
     "traceback": [
      "\u001b[1;31m---------------------------------------------------------------------------\u001b[0m",
      "\u001b[1;31mTypeError\u001b[0m                                 Traceback (most recent call last)",
      "Cell \u001b[1;32mIn[4], line 2\u001b[0m\n\u001b[0;32m      1\u001b[0m \u001b[38;5;66;03m# too many positional args\u001b[39;00m\n\u001b[1;32m----> 2\u001b[0m my_func(\u001b[38;5;241m10\u001b[39m, \u001b[38;5;241m90\u001b[39m, \u001b[38;5;241m100\u001b[39m)\n",
      "\u001b[1;31mTypeError\u001b[0m: my_func() takes 2 positional arguments but 3 were given"
     ]
    }
   ],
   "source": [
    "# too many positional args\n",
    "my_func(10, 90, 100)"
   ]
  },
  {
   "cell_type": "code",
   "execution_count": null,
   "id": "b05f631a",
   "metadata": {},
   "outputs": [],
   "source": [
    "# *args --- can use anything behind * --- like *whatever --- but args after * is standardized\n",
    "def my_func2(*args):\n",
    "    return sum(args) * 0.05"
   ]
  },
  {
   "cell_type": "code",
   "execution_count": 7,
   "id": "0f1b8cfd",
   "metadata": {},
   "outputs": [
    {
     "data": {
      "text/plain": [
       "10.0"
      ]
     },
     "execution_count": 7,
     "metadata": {},
     "output_type": "execute_result"
    }
   ],
   "source": [
    "my_func2(40, 60, 100)"
   ]
  },
  {
   "cell_type": "code",
   "execution_count": null,
   "id": "cd2bda31",
   "metadata": {},
   "outputs": [
    {
     "data": {
      "text/plain": [
       "5.0"
      ]
     },
     "execution_count": 9,
     "metadata": {},
     "output_type": "execute_result"
    }
   ],
   "source": [
    "# can pass as many args as you want --- treats args as a tuple\n",
    "my_func2(1, 2, 3, 4, 5, 6, 9, 70)"
   ]
  },
  {
   "cell_type": "code",
   "execution_count": 13,
   "id": "55aa822e",
   "metadata": {},
   "outputs": [],
   "source": [
    "# **kwargs --- returns a dictionary\n",
    "\n",
    "def my_func3(**kwargs):\n",
    "    # printing kwargs to show it\n",
    "    print(kwargs)\n",
    "    \n",
    "    if \"fruit\" in kwargs:\n",
    "        print(\"My fruit of choice is {}\".format(kwargs[\"fruit\"]))\n",
    "    else:\n",
    "        print(\"I didn't find any fruit here.\")"
   ]
  },
  {
   "cell_type": "code",
   "execution_count": 14,
   "id": "503b51f2",
   "metadata": {},
   "outputs": [
    {
     "name": "stdout",
     "output_type": "stream",
     "text": [
      "{'fruit': 'apple'}\n",
      "My fruit of choice is apple\n"
     ]
    }
   ],
   "source": [
    "my_func3(fruit = \"apple\")"
   ]
  },
  {
   "cell_type": "code",
   "execution_count": 15,
   "id": "dea44129",
   "metadata": {},
   "outputs": [
    {
     "name": "stdout",
     "output_type": "stream",
     "text": [
      "{'fruit': 'grapes', 'veggie': 'lettuce', 'meat': 'beef'}\n",
      "My fruit of choice is grapes\n"
     ]
    }
   ],
   "source": [
    "my_func3(fruit = \"grapes\", veggie = \"lettuce\", meat = \"beef\")"
   ]
  },
  {
   "cell_type": "code",
   "execution_count": 18,
   "id": "0562b837",
   "metadata": {},
   "outputs": [],
   "source": [
    "# can use both at the same time\n",
    "def my_func4(*args, **kwargs):\n",
    "    print(args)\n",
    "    print(kwargs)\n",
    "    \n",
    "    print(\"I would like {} {}\".format(args[0], kwargs[\"food\"]))"
   ]
  },
  {
   "cell_type": "code",
   "execution_count": 19,
   "id": "1f95cdf5",
   "metadata": {},
   "outputs": [
    {
     "name": "stdout",
     "output_type": "stream",
     "text": [
      "(10, 20, 30)\n",
      "{'fruit': 'orange', 'food': 'hamburgers', 'animal': 'dog'}\n",
      "I would like 10 hamburgers\n"
     ]
    }
   ],
   "source": [
    "my_func4(10, 20, 30, fruit = \"orange\", food = \"hamburgers\", animal = \"dog\")"
   ]
  },
  {
   "cell_type": "code",
   "execution_count": null,
   "id": "e2bb960a",
   "metadata": {},
   "outputs": [],
   "source": []
  }
 ],
 "metadata": {
  "kernelspec": {
   "display_name": "base",
   "language": "python",
   "name": "python3"
  },
  "language_info": {
   "codemirror_mode": {
    "name": "ipython",
    "version": 3
   },
   "file_extension": ".py",
   "mimetype": "text/x-python",
   "name": "python",
   "nbconvert_exporter": "python",
   "pygments_lexer": "ipython3",
   "version": "3.12.7"
  }
 },
 "nbformat": 4,
 "nbformat_minor": 5
}
