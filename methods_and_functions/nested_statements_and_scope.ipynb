{
 "cells": [
  {
   "cell_type": "code",
   "execution_count": 2,
   "id": "b3c985fd",
   "metadata": {},
   "outputs": [],
   "source": [
    "# Nested statements and scope\n",
    "\n",
    "x = 25\n",
    "\n",
    "def printer():\n",
    "    x = 50\n",
    "    return x\n"
   ]
  },
  {
   "cell_type": "code",
   "execution_count": 3,
   "id": "8ec47e61",
   "metadata": {},
   "outputs": [
    {
     "name": "stdout",
     "output_type": "stream",
     "text": [
      "25\n"
     ]
    }
   ],
   "source": [
    "print(x)"
   ]
  },
  {
   "cell_type": "code",
   "execution_count": 5,
   "id": "6fdeed84",
   "metadata": {},
   "outputs": [
    {
     "name": "stdout",
     "output_type": "stream",
     "text": [
      "50\n"
     ]
    }
   ],
   "source": [
    "print(printer())"
   ]
  },
  {
   "cell_type": "code",
   "execution_count": 6,
   "id": "65bf171f",
   "metadata": {},
   "outputs": [],
   "source": [
    "# LEGB Rule\n",
    "\n",
    "# L = Local: Vars defined in any way WITHIN A FUNCTION(def of lambda), and not declared global in that function\n",
    "\n",
    "# E = Enclosing function locals: names in the local scope of any and all enclosing functions(def or lambda) from inner to outer\n",
    "\n",
    "# G = Global(module): names assigned at the top level of a module file or declared global in a def within the file\n",
    "\n",
    "# B = Built-In(Python): names preassigned in the built-in names module: open, range, list, str,  SyntaxError, etc."
   ]
  },
  {
   "cell_type": "code",
   "execution_count": 13,
   "id": "6b927fc8",
   "metadata": {},
   "outputs": [],
   "source": [
    "# Local\n",
    "\n",
    "def square(number):\n",
    "    num = number\n",
    "    return num ** 2\n",
    "# num is a local var"
   ]
  },
  {
   "cell_type": "code",
   "execution_count": 14,
   "id": "98d05214",
   "metadata": {},
   "outputs": [
    {
     "data": {
      "text/plain": [
       "4"
      ]
     },
     "execution_count": 14,
     "metadata": {},
     "output_type": "execute_result"
    }
   ],
   "source": [
    "square(2)"
   ]
  },
  {
   "cell_type": "code",
   "execution_count": null,
   "id": "d3e02f8d",
   "metadata": {},
   "outputs": [],
   "source": [
    "# Enclosing\n",
    "\n",
    "name = \"THIS IS A GLOBAL STRING\"\n",
    "\n",
    "def greet():\n",
    "    # name is an enclosing function var now\n",
    "    name = \"John\"\n",
    "\n",
    "    def hello():\n",
    "        print(\"Hello \" + name)\n",
    "    # calling hello function inside of greet function\n",
    "    hello()"
   ]
  },
  {
   "cell_type": "code",
   "execution_count": null,
   "id": "a20f73ac",
   "metadata": {},
   "outputs": [
    {
     "name": "stdout",
     "output_type": "stream",
     "text": [
      "Hello John\n"
     ]
    }
   ],
   "source": [
    "# calling greet will set name to John and call the hello function it contains\n",
    "greet()"
   ]
  },
  {
   "cell_type": "code",
   "execution_count": 11,
   "id": "255974fe",
   "metadata": {},
   "outputs": [],
   "source": [
    "name = \"THIS IS A GLOBAL STRING\"\n",
    "\n",
    "def greet():\n",
    "    # commenting out declaration forces greet to look elsewhere for name var\n",
    "    # name = \"John\"\n",
    "\n",
    "    def hello():\n",
    "        print(\"Hello \" + name)\n",
    "    # calling hello function inside of greet function\n",
    "    hello()"
   ]
  },
  {
   "cell_type": "code",
   "execution_count": null,
   "id": "18032c65",
   "metadata": {},
   "outputs": [
    {
     "name": "stdout",
     "output_type": "stream",
     "text": [
      "Hello THIS IS A GLOBAL STRING\n"
     ]
    }
   ],
   "source": [
    "# since there is no enclosing function local or regular local var -- which it finds in global scope\n",
    "greet()"
   ]
  },
  {
   "cell_type": "code",
   "execution_count": 17,
   "id": "87fffa24",
   "metadata": {},
   "outputs": [],
   "source": [
    "# Global\n",
    "\n",
    "name = \"THIS IS A GLOBAL STRING\" # global var\n",
    "\n",
    "def greet():\n",
    "    # enclosing\n",
    "    name = \"John\"\n",
    "\n",
    "    def hello():\n",
    "        # local\n",
    "        name = \"I'm local\"\n",
    "        print(\"Hello \" + name)\n",
    "\n",
    "    hello()"
   ]
  },
  {
   "cell_type": "code",
   "execution_count": 18,
   "id": "2c950757",
   "metadata": {},
   "outputs": [
    {
     "name": "stdout",
     "output_type": "stream",
     "text": [
      "Hello I'm local\n"
     ]
    }
   ],
   "source": [
    "greet()"
   ]
  },
  {
   "cell_type": "code",
   "execution_count": 19,
   "id": "97982454",
   "metadata": {},
   "outputs": [],
   "source": [
    "x = 50\n",
    "\n",
    "def func(x):\n",
    "    print(f\"X is {x}\")"
   ]
  },
  {
   "cell_type": "code",
   "execution_count": 21,
   "id": "29fc1a14",
   "metadata": {},
   "outputs": [
    {
     "name": "stdout",
     "output_type": "stream",
     "text": [
      "X is 50\n"
     ]
    }
   ],
   "source": [
    "func(x)"
   ]
  },
  {
   "cell_type": "code",
   "execution_count": 25,
   "id": "1d4b7daa",
   "metadata": {},
   "outputs": [],
   "source": [
    "x = 50\n",
    "\n",
    "def func(x):\n",
    "    print(f\"X is {x}\")\n",
    "\n",
    "    # local reassignment\n",
    "    x = 200\n",
    "    print(f\"I just locally changed x to {x}\")"
   ]
  },
  {
   "cell_type": "code",
   "execution_count": 26,
   "id": "191df1d5",
   "metadata": {},
   "outputs": [
    {
     "name": "stdout",
     "output_type": "stream",
     "text": [
      "X is 50\n",
      "I just locally changed x to 200\n"
     ]
    }
   ],
   "source": [
    "func(x)"
   ]
  },
  {
   "cell_type": "code",
   "execution_count": 24,
   "id": "35bc0835",
   "metadata": {},
   "outputs": [
    {
     "name": "stdout",
     "output_type": "stream",
     "text": [
      "50\n"
     ]
    }
   ],
   "source": [
    "print(x)"
   ]
  },
  {
   "cell_type": "code",
   "execution_count": 27,
   "id": "2e0b687a",
   "metadata": {},
   "outputs": [],
   "source": [
    "# reassign global\n",
    "\n",
    "x = 50\n",
    "\n",
    "def func():\n",
    "    # below will reach into global scope\n",
    "    global x\n",
    "    print(f\"X is {x}\")\n",
    "\n",
    "    # local reassignment on a global var\n",
    "    x = \"NEW VALUE\"\n",
    "    print(f\"I just locally changed global X to {x}\")"
   ]
  },
  {
   "cell_type": "code",
   "execution_count": null,
   "id": "28c2ef14",
   "metadata": {},
   "outputs": [
    {
     "name": "stdout",
     "output_type": "stream",
     "text": [
      "50\n"
     ]
    }
   ],
   "source": [
    "# still 50\n",
    "print(x)"
   ]
  },
  {
   "cell_type": "code",
   "execution_count": 29,
   "id": "0384e814",
   "metadata": {},
   "outputs": [
    {
     "name": "stdout",
     "output_type": "stream",
     "text": [
      "X is 50\n",
      "I just locally changed global X to NEW VALUE\n"
     ]
    }
   ],
   "source": [
    "func()"
   ]
  },
  {
   "cell_type": "code",
   "execution_count": null,
   "id": "3aa92bdf",
   "metadata": {},
   "outputs": [
    {
     "name": "stdout",
     "output_type": "stream",
     "text": [
      "NEW VALUE\n"
     ]
    }
   ],
   "source": [
    "# global var changed after runng func function\n",
    "print(x)"
   ]
  },
  {
   "cell_type": "code",
   "execution_count": null,
   "id": "490feda7",
   "metadata": {},
   "outputs": [],
   "source": [
    "# best to avoid using global keyword to reassign global vars --- can do the same by using function returns to reassign\n",
    "# much more deliberate reassignment\n",
    "x = 50\n",
    "\n",
    "def func(x):\n",
    "\n",
    "    print(f\"X is {x}\")\n",
    "\n",
    "    # local reassignment on a global var\n",
    "    x = \"NEW VALUE\"\n",
    "    print(f\"I just locally changed X to {x}\")\n",
    "    return x"
   ]
  },
  {
   "cell_type": "code",
   "execution_count": 42,
   "id": "9ae90ae6",
   "metadata": {},
   "outputs": [
    {
     "name": "stdout",
     "output_type": "stream",
     "text": [
      "50\n"
     ]
    }
   ],
   "source": [
    "print(x)"
   ]
  },
  {
   "cell_type": "code",
   "execution_count": 43,
   "id": "d413d7e9",
   "metadata": {},
   "outputs": [
    {
     "name": "stdout",
     "output_type": "stream",
     "text": [
      "X is 50\n",
      "I just locally changed X to NEW VALUE\n"
     ]
    }
   ],
   "source": [
    "x = func(x)"
   ]
  },
  {
   "cell_type": "code",
   "execution_count": 44,
   "id": "707863a8",
   "metadata": {},
   "outputs": [
    {
     "name": "stdout",
     "output_type": "stream",
     "text": [
      "NEW VALUE\n"
     ]
    }
   ],
   "source": [
    "print(x)"
   ]
  },
  {
   "cell_type": "code",
   "execution_count": null,
   "id": "8e2430c7",
   "metadata": {},
   "outputs": [],
   "source": []
  }
 ],
 "metadata": {
  "kernelspec": {
   "display_name": "base",
   "language": "python",
   "name": "python3"
  },
  "language_info": {
   "codemirror_mode": {
    "name": "ipython",
    "version": 3
   },
   "file_extension": ".py",
   "mimetype": "text/x-python",
   "name": "python",
   "nbconvert_exporter": "python",
   "pygments_lexer": "ipython3",
   "version": "3.12.7"
  }
 },
 "nbformat": 4,
 "nbformat_minor": 5
}
