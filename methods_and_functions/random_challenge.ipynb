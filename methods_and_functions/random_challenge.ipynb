{
 "cells": [
  {
   "cell_type": "code",
   "execution_count": 1,
   "id": "15dfde28",
   "metadata": {},
   "outputs": [],
   "source": [
    "# Challenge from r/dailyprogrammer on reddit\n",
    "# [2021-07-05] Challenge #397 [Easy] Roman numeral comparison\n",
    "#  url -- https://www.reddit.com/r/dailyprogrammer/comments/oe9qnb/20210705_challenge_397_easy_roman_numeral/\n",
    "\n",
    "# For the purpose of today's challenge, a Roman numeral is a non-empty string of the characters M, D, C, L, X, V, and I, each of which has the value 1000, 500, 100, 50, 10, 5, and 1. The characters are arranged in descending order, and the total value of the numeral is the sum of the values of its characters. For example, the numeral MDCCXXVIIII has the value 1000 + 500 + 2x100 + 2x10 + 5 + 4x1 = 1729.\n",
    "\n",
    "# This challenge uses only additive notation for roman numerals. There's also subtractive notation, where 9 would be written as IX. You don't need to handle subtractive notation (but you can if you want to, as an optional bonus).\n",
    "\n",
    "# Given two Roman numerals, return whether the first one is less than the second one:\n",
    "\n",
    "# numcompare(\"I\", \"I\") => false\n",
    "# numcompare(\"I\", \"II\") => true\n",
    "# numcompare(\"II\", \"I\") => false\n",
    "# numcompare(\"V\", \"IIII\") => false\n",
    "# numcompare(\"MDCLXV\", \"MDCLXVI\") => true\n",
    "# numcompare(\"MM\", \"MDCCCCLXXXXVIIII\") => false\n",
    "# You only need to correctly handle the case where there are at most 1 each of D, L, and V, and at most 4 each of C, X, and I. You don't need to validate the input, but you can if you want. Any behavior for invalid inputs like numcompare(\"V\", \"IIIIIIIIII\") is fine - true, false, or error."
   ]
  },
  {
   "cell_type": "code",
   "execution_count": null,
   "id": "522598a9",
   "metadata": {},
   "outputs": [],
   "source": [
    "def add_numerals(first_num_str, second_num_str):\n",
    "\n",
    "    numerals = {\n",
    "        \"M\": 1000,\n",
    "        \"D\": 500,\n",
    "        \"C\": 100,\n",
    "        \"L\": 50,\n",
    "        \"X\": 10,\n",
    "        \"V\": 5,\n",
    "        \"I\": 1\n",
    "    }\n",
    "    # var to get sum of first arg passed to function\n",
    "    first_numeral_sum = 0\n",
    "    # var to get sum of second arg passed to function\n",
    "    second_numeral_sum = 0\n",
    "\n",
    "    for item in first_num_str:\n",
    "        first_numeral_sum += numerals[item]\n",
    "        # print(first_numeral_sum)\n",
    "    for item in second_num_str:\n",
    "        second_numeral_sum += numerals[item]\n",
    "        # print(second_numeral_sum)\n",
    "    print(f\"First: {first_numeral_sum}\\nSecond: {second_numeral_sum}\")\n",
    "    return first_numeral_sum > second_numeral_sum"
   ]
  },
  {
   "cell_type": "code",
   "execution_count": 24,
   "id": "0949da62",
   "metadata": {},
   "outputs": [
    {
     "name": "stdout",
     "output_type": "stream",
     "text": [
      "First: 2\n",
      "Second: 11\n"
     ]
    },
    {
     "data": {
      "text/plain": [
       "False"
      ]
     },
     "execution_count": 24,
     "metadata": {},
     "output_type": "execute_result"
    }
   ],
   "source": [
    "add_numerals(\"II\", \"IX\")"
   ]
  },
  {
   "cell_type": "code",
   "execution_count": 26,
   "id": "e32ef81f",
   "metadata": {},
   "outputs": [
    {
     "name": "stdout",
     "output_type": "stream",
     "text": [
      "First: 1665\n",
      "Second: 1670\n"
     ]
    },
    {
     "data": {
      "text/plain": [
       "False"
      ]
     },
     "execution_count": 26,
     "metadata": {},
     "output_type": "execute_result"
    }
   ],
   "source": [
    "add_numerals(\"MDCLXV\", \"MDCLXX\")"
   ]
  },
  {
   "cell_type": "code",
   "execution_count": null,
   "id": "744b31aa",
   "metadata": {},
   "outputs": [],
   "source": []
  }
 ],
 "metadata": {
  "kernelspec": {
   "display_name": "base",
   "language": "python",
   "name": "python3"
  },
  "language_info": {
   "codemirror_mode": {
    "name": "ipython",
    "version": 3
   },
   "file_extension": ".py",
   "mimetype": "text/x-python",
   "name": "python",
   "nbconvert_exporter": "python",
   "pygments_lexer": "ipython3",
   "version": "3.12.7"
  }
 },
 "nbformat": 4,
 "nbformat_minor": 5
}
