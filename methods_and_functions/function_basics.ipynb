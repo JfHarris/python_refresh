{
 "cells": [
  {
   "cell_type": "code",
   "execution_count": 1,
   "id": "78ca035c",
   "metadata": {},
   "outputs": [],
   "source": [
    "# Basics of functions in python"
   ]
  },
  {
   "cell_type": "code",
   "execution_count": 1,
   "id": "2288dd34",
   "metadata": {},
   "outputs": [],
   "source": [
    "def say_hello():\n",
    "    \"\"\"Says hello\"\"\"\n",
    "    print(\"hello\")"
   ]
  },
  {
   "cell_type": "code",
   "execution_count": 2,
   "id": "006f5891",
   "metadata": {},
   "outputs": [
    {
     "name": "stdout",
     "output_type": "stream",
     "text": [
      "hello\n"
     ]
    }
   ],
   "source": [
    "say_hello()"
   ]
  },
  {
   "cell_type": "code",
   "execution_count": 3,
   "id": "e1d15f0c",
   "metadata": {},
   "outputs": [
    {
     "data": {
      "text/plain": [
       "<function __main__.say_hello()>"
      ]
     },
     "execution_count": 3,
     "metadata": {},
     "output_type": "execute_result"
    }
   ],
   "source": [
    "# must add parentheses to call function --- otherwise you'll just be told that the function exists\n",
    "say_hello"
   ]
  },
  {
   "cell_type": "code",
   "execution_count": 4,
   "id": "50189c27",
   "metadata": {},
   "outputs": [],
   "source": [
    "def say_hello(name):\n",
    "    print(f\"hello {name}\")"
   ]
  },
  {
   "cell_type": "code",
   "execution_count": 5,
   "id": "1dec1c93",
   "metadata": {},
   "outputs": [
    {
     "name": "stdout",
     "output_type": "stream",
     "text": [
      "hello Jimmy\n"
     ]
    }
   ],
   "source": [
    "say_hello(\"Jimmy\")"
   ]
  },
  {
   "cell_type": "code",
   "execution_count": null,
   "id": "2c095f09",
   "metadata": {},
   "outputs": [
    {
     "ename": "TypeError",
     "evalue": "say_hello() missing 1 required positional argument: 'name'",
     "output_type": "error",
     "traceback": [
      "\u001b[1;31m---------------------------------------------------------------------------\u001b[0m",
      "\u001b[1;31mTypeError\u001b[0m                                 Traceback (most recent call last)",
      "Cell \u001b[1;32mIn[6], line 2\u001b[0m\n\u001b[0;32m      1\u001b[0m \u001b[38;5;66;03m# arguments is necessary if specified\u001b[39;00m\n\u001b[1;32m----> 2\u001b[0m say_hello()\n",
      "\u001b[1;31mTypeError\u001b[0m: say_hello() missing 1 required positional argument: 'name'"
     ]
    }
   ],
   "source": [
    "# argument is necessary if specified\n",
    "say_hello()"
   ]
  },
  {
   "cell_type": "code",
   "execution_count": 7,
   "id": "271e2bd1",
   "metadata": {},
   "outputs": [],
   "source": [
    "# solving above with a default value\n",
    "def say_hello(name = \"Whatever\"):\n",
    "    print(f\"Hello {name}\")"
   ]
  },
  {
   "cell_type": "code",
   "execution_count": 9,
   "id": "620aaf2b",
   "metadata": {},
   "outputs": [
    {
     "name": "stdout",
     "output_type": "stream",
     "text": [
      "Hello James\n"
     ]
    }
   ],
   "source": [
    "say_hello(\"James\")"
   ]
  },
  {
   "cell_type": "code",
   "execution_count": null,
   "id": "f845539e",
   "metadata": {},
   "outputs": [
    {
     "name": "stdout",
     "output_type": "stream",
     "text": [
      "Hello Whatever\n"
     ]
    }
   ],
   "source": [
    "# uses default since no arg given\n",
    "say_hello()"
   ]
  },
  {
   "cell_type": "code",
   "execution_count": 11,
   "id": "8b35b35a",
   "metadata": {},
   "outputs": [],
   "source": [
    "def add_function(a, b):\n",
    "    \"\"\"Adds numbers\"\"\"\n",
    "    return a + b"
   ]
  },
  {
   "cell_type": "code",
   "execution_count": 12,
   "id": "0814e3dd",
   "metadata": {},
   "outputs": [
    {
     "data": {
      "text/plain": [
       "3"
      ]
     },
     "execution_count": 12,
     "metadata": {},
     "output_type": "execute_result"
    }
   ],
   "source": [
    "add_function(1, 2)"
   ]
  },
  {
   "cell_type": "code",
   "execution_count": null,
   "id": "1317d21f",
   "metadata": {},
   "outputs": [
    {
     "data": {
      "text/plain": [
       "30"
      ]
     },
     "execution_count": 13,
     "metadata": {},
     "output_type": "execute_result"
    }
   ],
   "source": [
    "# since retrurn is used in function, you can save value to a var\n",
    "sum = add_function(10, 20)\n",
    "sum"
   ]
  },
  {
   "cell_type": "code",
   "execution_count": 17,
   "id": "4bf05745",
   "metadata": {},
   "outputs": [],
   "source": [
    "# print versus return\n",
    "def print_add_nums(num1, num2):\n",
    "    \"\"\"Prints sum\"\"\"\n",
    "    print(num1 + num2)"
   ]
  },
  {
   "cell_type": "code",
   "execution_count": 18,
   "id": "14bf0d19",
   "metadata": {},
   "outputs": [],
   "source": [
    "# print versus return\n",
    "def add_function(a, b):\n",
    "    \"\"\"Adds numbers\"\"\"\n",
    "    return a + b"
   ]
  },
  {
   "cell_type": "code",
   "execution_count": 22,
   "id": "c7598afe",
   "metadata": {},
   "outputs": [
    {
     "name": "stdout",
     "output_type": "stream",
     "text": [
      "3\n"
     ]
    }
   ],
   "source": [
    "sum_print = print_add_nums(1, 2)"
   ]
  },
  {
   "cell_type": "code",
   "execution_count": 20,
   "id": "cec35720",
   "metadata": {},
   "outputs": [],
   "source": [
    "sum_print"
   ]
  },
  {
   "cell_type": "code",
   "execution_count": null,
   "id": "fd801616",
   "metadata": {},
   "outputs": [
    {
     "data": {
      "text/plain": [
       "NoneType"
      ]
     },
     "execution_count": 21,
     "metadata": {},
     "output_type": "execute_result"
    }
   ],
   "source": [
    "# not actually saving anything to var since function doesn't return any value\n",
    "type(sum_print)"
   ]
  },
  {
   "cell_type": "code",
   "execution_count": 23,
   "id": "d70966e4",
   "metadata": {},
   "outputs": [
    {
     "data": {
      "text/plain": [
       "6"
      ]
     },
     "execution_count": 23,
     "metadata": {},
     "output_type": "execute_result"
    }
   ],
   "source": [
    "add_function(1, 5)"
   ]
  },
  {
   "cell_type": "code",
   "execution_count": 24,
   "id": "e3501765",
   "metadata": {},
   "outputs": [
    {
     "data": {
      "text/plain": [
       "8"
      ]
     },
     "execution_count": 24,
     "metadata": {},
     "output_type": "execute_result"
    }
   ],
   "source": [
    "sum_return = add_function(1, 7)\n",
    "sum_return"
   ]
  },
  {
   "cell_type": "code",
   "execution_count": null,
   "id": "270b0a20",
   "metadata": {},
   "outputs": [
    {
     "data": {
      "text/plain": [
       "int"
      ]
     },
     "execution_count": 25,
     "metadata": {},
     "output_type": "execute_result"
    }
   ],
   "source": [
    "# var has value and type since return is used\n",
    "type(sum_return)"
   ]
  },
  {
   "cell_type": "code",
   "execution_count": 26,
   "id": "900df6df",
   "metadata": {},
   "outputs": [],
   "source": [
    "# guarding against dynamic typing may be necessary\n",
    "def sum_again(x, y):\n",
    "    return x + y"
   ]
  },
  {
   "cell_type": "code",
   "execution_count": null,
   "id": "84c3ba77",
   "metadata": {},
   "outputs": [
    {
     "data": {
      "text/plain": [
       "'140'"
      ]
     },
     "execution_count": 27,
     "metadata": {},
     "output_type": "execute_result"
    }
   ],
   "source": [
    "# args are strings so adding them together results in concat not addition\n",
    "sum_again(\"1\", \"40\")"
   ]
  },
  {
   "cell_type": "code",
   "execution_count": null,
   "id": "1789ce41",
   "metadata": {},
   "outputs": [],
   "source": [
    "def sum_typed(a, b):\n",
    "    return int(a) + int(b)"
   ]
  },
  {
   "cell_type": "code",
   "execution_count": 29,
   "id": "c7b7984f",
   "metadata": {},
   "outputs": [
    {
     "data": {
      "text/plain": [
       "9"
      ]
     },
     "execution_count": 29,
     "metadata": {},
     "output_type": "execute_result"
    }
   ],
   "source": [
    "sum_typed(\"4\", \"5\")"
   ]
  }
 ],
 "metadata": {
  "kernelspec": {
   "display_name": "base",
   "language": "python",
   "name": "python3"
  },
  "language_info": {
   "codemirror_mode": {
    "name": "ipython",
    "version": 3
   },
   "file_extension": ".py",
   "mimetype": "text/x-python",
   "name": "python",
   "nbconvert_exporter": "python",
   "pygments_lexer": "ipython3",
   "version": "3.12.7"
  }
 },
 "nbformat": 4,
 "nbformat_minor": 5
}
