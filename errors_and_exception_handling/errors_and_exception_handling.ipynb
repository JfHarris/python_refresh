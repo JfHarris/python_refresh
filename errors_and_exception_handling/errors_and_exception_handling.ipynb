{
 "cells": [
  {
   "cell_type": "code",
   "execution_count": null,
   "id": "a452a910",
   "metadata": {},
   "outputs": [],
   "source": [
    "# Errors and Exception handling\n",
    "\n",
    "# try: block of code to be attempted...may lead to an error\n",
    "# except: block of code that will execute if there is an error in the try block\n",
    "# finally: final block of code that will be executed regardless of errors\n",
    "\n",
    "# documentation url: https://docs.python.org/3/tutorial/errors.html\n",
    "\n",
    "# built-in exceptions url: https://docs.python.org/3/library/exceptions.html#bltin-exceptions"
   ]
  },
  {
   "cell_type": "code",
   "execution_count": 2,
   "id": "d294bd5b",
   "metadata": {},
   "outputs": [],
   "source": [
    "def add(n1, n2):\n",
    "    print(n1 + n2)"
   ]
  },
  {
   "cell_type": "code",
   "execution_count": 3,
   "id": "bcf4b1d5",
   "metadata": {},
   "outputs": [
    {
     "name": "stdout",
     "output_type": "stream",
     "text": [
      "30\n"
     ]
    }
   ],
   "source": [
    "add(10, 20)"
   ]
  },
  {
   "cell_type": "code",
   "execution_count": 4,
   "id": "291778d5",
   "metadata": {},
   "outputs": [],
   "source": [
    "number1 = 1"
   ]
  },
  {
   "cell_type": "code",
   "execution_count": 5,
   "id": "f2e1ca4c",
   "metadata": {},
   "outputs": [],
   "source": [
    "number2 = input(\"Please provide a number: \")"
   ]
  },
  {
   "cell_type": "code",
   "execution_count": 7,
   "id": "31679baf",
   "metadata": {},
   "outputs": [
    {
     "ename": "TypeError",
     "evalue": "unsupported operand type(s) for +: 'int' and 'str'",
     "output_type": "error",
     "traceback": [
      "\u001b[1;31m---------------------------------------------------------------------------\u001b[0m",
      "\u001b[1;31mTypeError\u001b[0m                                 Traceback (most recent call last)",
      "Cell \u001b[1;32mIn[7], line 3\u001b[0m\n\u001b[0;32m      1\u001b[0m \u001b[38;5;66;03m# will throw TypeError since number2 is a string due to using input without casting\u001b[39;00m\n\u001b[0;32m      2\u001b[0m \u001b[38;5;66;03m# that will keep the code after error from executing...in this case print(\"Something Happened\") from executing\u001b[39;00m\n\u001b[1;32m----> 3\u001b[0m add(number1, number2)\n\u001b[0;32m      4\u001b[0m \u001b[38;5;28mprint\u001b[39m(\u001b[38;5;124m\"\u001b[39m\u001b[38;5;124msomething happened\u001b[39m\u001b[38;5;124m\"\u001b[39m)\n",
      "Cell \u001b[1;32mIn[2], line 2\u001b[0m, in \u001b[0;36madd\u001b[1;34m(n1, n2)\u001b[0m\n\u001b[0;32m      1\u001b[0m \u001b[38;5;28;01mdef\u001b[39;00m \u001b[38;5;21madd\u001b[39m(n1, n2):\n\u001b[1;32m----> 2\u001b[0m     \u001b[38;5;28mprint\u001b[39m(n1 \u001b[38;5;241m+\u001b[39m n2)\n",
      "\u001b[1;31mTypeError\u001b[0m: unsupported operand type(s) for +: 'int' and 'str'"
     ]
    }
   ],
   "source": [
    "# will throw TypeError since number2 is a string due to using input without casting\n",
    "# that will keep the code after error from executing...in this case print(\"Something Happened\") from executing\n",
    "add(number1, number2)\n",
    "print(\"something happened\")"
   ]
  },
  {
   "cell_type": "code",
   "execution_count": 8,
   "id": "7f62547c",
   "metadata": {},
   "outputs": [],
   "source": [
    "# try\n",
    "\n",
    "try:\n",
    "    # code you want to execute\n",
    "    # may have an error\n",
    "    result = 10 + 10\n",
    "except:\n",
    "    print(\"It looks like you aren't adding correctly!\")"
   ]
  },
  {
   "cell_type": "code",
   "execution_count": 9,
   "id": "f8294a2f",
   "metadata": {},
   "outputs": [
    {
     "data": {
      "text/plain": [
       "20"
      ]
     },
     "execution_count": 9,
     "metadata": {},
     "output_type": "execute_result"
    }
   ],
   "source": [
    "result"
   ]
  },
  {
   "cell_type": "code",
   "execution_count": null,
   "id": "9d9a5a67",
   "metadata": {},
   "outputs": [
    {
     "name": "stdout",
     "output_type": "stream",
     "text": [
      "It looks like you aren't adding correctly!\n"
     ]
    }
   ],
   "source": [
    "# induucing an error by changing second 10 to a string\n",
    "\n",
    "try:\n",
    "    result = 10 + '10'\n",
    "except:\n",
    "    print(\"It looks like you aren't adding correctly!\")"
   ]
  },
  {
   "cell_type": "code",
   "execution_count": 13,
   "id": "91fed9f9",
   "metadata": {},
   "outputs": [
    {
     "name": "stdout",
     "output_type": "stream",
     "text": [
      "Add went well\n",
      "20\n"
     ]
    }
   ],
   "source": [
    "# try, except, else---fixing second 10\n",
    "try:\n",
    "    result = 10 + 10\n",
    "except:\n",
    "    print(\"It looks like you aren't adding correctly!\")\n",
    "else:\n",
    "    print(\"Add went well\")\n",
    "    print(result)"
   ]
  },
  {
   "cell_type": "code",
   "execution_count": null,
   "id": "83ca9334",
   "metadata": {},
   "outputs": [
    {
     "name": "stdout",
     "output_type": "stream",
     "text": [
      "I always run\n"
     ]
    }
   ],
   "source": [
    "# try, except, finally\n",
    "# will not throw error because you're assinging write privileges and not causing a typeError\n",
    "# finally always runs\n",
    "\n",
    "try:\n",
    "    f = open(\"testfile\", \"w\")\n",
    "    f.write(\"this is a test line\")\n",
    "except TypeError: # can specify errors if you want\n",
    "    print(\"there was a type error\")\n",
    "except OSError:\n",
    "    print(\"you have an OS error\")\n",
    "finally:\n",
    "    print(\"I always run\")"
   ]
  },
  {
   "cell_type": "code",
   "execution_count": 15,
   "id": "c9e407af",
   "metadata": {},
   "outputs": [
    {
     "name": "stdout",
     "output_type": "stream",
     "text": [
      "you have an OS error\n",
      "I always run\n"
     ]
    }
   ],
   "source": [
    "# will throw error because you're assinging read privileges and then trying to write to the file\n",
    "\n",
    "try:\n",
    "    f = open(\"testfile\", \"r\")\n",
    "    f.write(\"this is a test line\")\n",
    "except TypeError: # can specify errors if you want\n",
    "    print(\"there was a type error\")\n",
    "except OSError:\n",
    "    print(\"you have an OS error\")\n",
    "finally:\n",
    "    print(\"I always run\")"
   ]
  },
  {
   "cell_type": "code",
   "execution_count": 16,
   "id": "0e8ec3f7",
   "metadata": {},
   "outputs": [],
   "source": [
    "# try, except, finally in a function\n",
    "\n",
    "def ask_for_int():\n",
    "    try:\n",
    "        result = int(input(\"Please provide a number: \"))\n",
    "    except:\n",
    "        print(\"Whoops, that's not a number!\")\n",
    "    finally:\n",
    "        print(\"End of try/except/finally\")"
   ]
  },
  {
   "cell_type": "code",
   "execution_count": null,
   "id": "6a27e8e7",
   "metadata": {},
   "outputs": [
    {
     "name": "stdout",
     "output_type": "stream",
     "text": [
      "End of try/except/finally\n"
     ]
    }
   ],
   "source": [
    "# inputting 20 causes no errors\n",
    "ask_for_int()"
   ]
  },
  {
   "cell_type": "code",
   "execution_count": null,
   "id": "88e3c090",
   "metadata": {},
   "outputs": [],
   "source": [
    "# adding while loop to continue to try and get a number\n",
    "\n",
    "# be careful when using while True:\n",
    "# will need to add a break statement to avoid an infinite loop\n",
    "\n",
    "\n",
    "def ask_for_int():\n",
    "    while True:\n",
    "        try:\n",
    "            result = int(input(\"Please provide a number: \"))\n",
    "        except: # not receiving a number\n",
    "            print(\"Whoops, that's not a number!\")\n",
    "            continue\n",
    "        else: # if there is no exception, run this\n",
    "            print(\"Yes! Thank you!\")\n",
    "            break\n",
    "        finally:\n",
    "            print(\"End of try/except/finally. I will always run\")"
   ]
  },
  {
   "cell_type": "code",
   "execution_count": null,
   "id": "cba7b73d",
   "metadata": {},
   "outputs": [
    {
     "name": "stdout",
     "output_type": "stream",
     "text": [
      "Yes! Thank you!\n",
      "End of try/except/finally. I will always run\n"
     ]
    }
   ],
   "source": [
    "# inputting 20 again will not throw an error\n",
    "ask_for_int()"
   ]
  },
  {
   "cell_type": "code",
   "execution_count": null,
   "id": "fa2d1941",
   "metadata": {},
   "outputs": [
    {
     "name": "stdout",
     "output_type": "stream",
     "text": [
      "Whoops, that's not a number!\n",
      "End of try/except/finally. I will always run\n",
      "Yes! Thank you!\n",
      "End of try/except/finally. I will always run\n"
     ]
    }
   ],
   "source": [
    "# triggering error by inputting q then ending it by inputting 20\n",
    "ask_for_int()"
   ]
  },
  {
   "cell_type": "code",
   "execution_count": null,
   "id": "e1a60254",
   "metadata": {},
   "outputs": [],
   "source": []
  }
 ],
 "metadata": {
  "kernelspec": {
   "display_name": "base",
   "language": "python",
   "name": "python3"
  },
  "language_info": {
   "codemirror_mode": {
    "name": "ipython",
    "version": 3
   },
   "file_extension": ".py",
   "mimetype": "text/x-python",
   "name": "python",
   "nbconvert_exporter": "python",
   "pygments_lexer": "ipython3",
   "version": "3.12.7"
  }
 },
 "nbformat": 4,
 "nbformat_minor": 5
}
