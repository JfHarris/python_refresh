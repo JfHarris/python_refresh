{
 "cells": [
  {
   "cell_type": "code",
   "execution_count": null,
   "id": "19cffffb",
   "metadata": {},
   "outputs": [],
   "source": [
    "# unit tests\n",
    "\n",
    "# running tests on capitalize.py by entering...\n",
    "# python test_capitalize.py\n",
    "\n",
    "# OUTPUT\n",
    "# ======================================================================\n",
    "# FAIL: test_multiple_words (__main__.TestCap.test_multiple_words)\n",
    "# ----------------------------------------------------------------------\n",
    "# Traceback (most recent call last):\n",
    "#   File \"C:\\Users\\jfhar\\Desktop\\Source_2\\python_refresh\\errors_and_exception_handling\\test_capitalize.py\", line 18, in test_multiple_words\n",
    "#     self.assertEqual(result, \"More Words\")\n",
    "# AssertionError: 'More words' != 'More Words'\n",
    "# - More words\n",
    "# ?      ^\n",
    "# + More Words\n",
    "# ?      ^\n",
    "\n",
    "# issue comes from the method capitalize --- capitalize only capitalizes the first letter of a string\n",
    "# title will capitalize the first letter of every word\n",
    "# make changes above then rerun...\n",
    "# python test_capitalize.py\n",
    "\n",
    "# OUTPUT\n",
    "# ----------------------------------------------------------------------\n",
    "# Ran 2 tests in 0.001s\n",
    "\n",
    "# OK\n",
    "\n",
    "# passed them all"
   ]
  }
 ],
 "metadata": {
  "language_info": {
   "name": "python"
  }
 },
 "nbformat": 4,
 "nbformat_minor": 5
}
