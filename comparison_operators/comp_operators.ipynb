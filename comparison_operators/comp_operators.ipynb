{
 "cells": [
  {
   "cell_type": "code",
   "execution_count": null,
   "id": "735b9ab3",
   "metadata": {},
   "outputs": [
    {
     "data": {
      "text/plain": [
       "False"
      ]
     },
     "execution_count": 1,
     "metadata": {},
     "output_type": "execute_result"
    }
   ],
   "source": [
    "# equal\n",
    "2 == 1\n",
    "#single equal sign is assignment operator for vars"
   ]
  },
  {
   "cell_type": "code",
   "execution_count": 2,
   "id": "bbaec48c",
   "metadata": {},
   "outputs": [
    {
     "data": {
      "text/plain": [
       "False"
      ]
     },
     "execution_count": 2,
     "metadata": {},
     "output_type": "execute_result"
    }
   ],
   "source": [
    "\"hello\" == \"olleh\""
   ]
  },
  {
   "cell_type": "code",
   "execution_count": 3,
   "id": "b67cbeca",
   "metadata": {},
   "outputs": [
    {
     "data": {
      "text/plain": [
       "True"
      ]
     },
     "execution_count": 3,
     "metadata": {},
     "output_type": "execute_result"
    }
   ],
   "source": [
    "# not equal\n",
    "4 != 3"
   ]
  },
  {
   "cell_type": "code",
   "execution_count": 4,
   "id": "9e8146e4",
   "metadata": {},
   "outputs": [
    {
     "data": {
      "text/plain": [
       "False"
      ]
     },
     "execution_count": 4,
     "metadata": {},
     "output_type": "execute_result"
    }
   ],
   "source": [
    "# greater than\n",
    "5 > 7"
   ]
  },
  {
   "cell_type": "code",
   "execution_count": null,
   "id": "6c3c093e",
   "metadata": {},
   "outputs": [
    {
     "data": {
      "text/plain": [
       "True"
      ]
     },
     "execution_count": 6,
     "metadata": {},
     "output_type": "execute_result"
    }
   ],
   "source": [
    "# less than\n",
    "7 < 9"
   ]
  },
  {
   "cell_type": "code",
   "execution_count": 7,
   "id": "dd690a45",
   "metadata": {},
   "outputs": [
    {
     "data": {
      "text/plain": [
       "True"
      ]
     },
     "execution_count": 7,
     "metadata": {},
     "output_type": "execute_result"
    }
   ],
   "source": [
    "# greater than or equal to\n",
    "5 >= 4"
   ]
  },
  {
   "cell_type": "code",
   "execution_count": null,
   "id": "b46b87b6",
   "metadata": {},
   "outputs": [],
   "source": []
  },
  {
   "cell_type": "code",
   "execution_count": 8,
   "id": "c9c91a30",
   "metadata": {},
   "outputs": [
    {
     "data": {
      "text/plain": [
       "True"
      ]
     },
     "execution_count": 8,
     "metadata": {},
     "output_type": "execute_result"
    }
   ],
   "source": [
    "# less than or equal to\n",
    "4 <= 7"
   ]
  }
 ],
 "metadata": {
  "kernelspec": {
   "display_name": "base",
   "language": "python",
   "name": "python3"
  },
  "language_info": {
   "codemirror_mode": {
    "name": "ipython",
    "version": 3
   },
   "file_extension": ".py",
   "mimetype": "text/x-python",
   "name": "python",
   "nbconvert_exporter": "python",
   "pygments_lexer": "ipython3",
   "version": "3.12.7"
  }
 },
 "nbformat": 4,
 "nbformat_minor": 5
}
